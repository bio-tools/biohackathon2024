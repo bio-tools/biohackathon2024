{
  "nbformat": 4,
  "nbformat_minor": 0,
  "metadata": {
    "colab": {
      "provenance": []
    },
    "kernelspec": {
      "name": "python3",
      "display_name": "Python 3"
    },
    "language_info": {
      "name": "python"
    }
  },
  "cells": [
    {
      "cell_type": "code",
      "source": [
        "from lxml import etree\n",
        "\n",
        "def transform_xml_to_html(xml_file, xslt_file, output_html):\n",
        "    # Parse the XML and XSLT files\n",
        "    xml_tree = etree.parse(xml_file)\n",
        "    xslt_tree = etree.parse(xslt_file)\n",
        "\n",
        "    # Create an XSLT transformer\n",
        "    transform = etree.XSLT(xslt_tree)\n",
        "\n",
        "    # Apply the transformation\n",
        "    try:\n",
        "        html_tree = transform(xml_tree)\n",
        "    except etree.XSLTApplyError as e:\n",
        "        print(f\"XSLT Transformation Error: {e}\")\n",
        "        # Print the problematic XPath expression and context\n",
        "        print(\"Error context:\", e.error_log)\n",
        "        return  # Exit the function if transformation fails\n",
        "\n",
        "    # Write the output to an HTML file\n",
        "    with open(output_html, 'w', encoding='utf-8') as f:\n",
        "        f.write(str(html_tree))\n",
        "\n",
        "    print(f\"HTML file '{output_html}' generated successfully.\")"
      ],
      "metadata": {
        "id": "m2viWzxun7p0"
      },
      "execution_count": 18,
      "outputs": []
    },
    {
      "cell_type": "code",
      "source": [
        "# Example usage:\n",
        "# Wrap our XMLs with <root xmlns:xlink=\"http://www.w3.org/1999/xlink\"> ... </root> to make them into a single XML tree\n",
        "transform_xml_to_html('PMC3587630.xml', 'transform.xsl', 'output.html')"
      ],
      "metadata": {
        "colab": {
          "base_uri": "https://localhost:8080/"
        },
        "id": "uocfQ0_Bu0jt",
        "outputId": "62dfa658-f75f-4cbb-e6b3-5c9865955569"
      },
      "execution_count": 19,
      "outputs": [
        {
          "output_type": "stream",
          "name": "stdout",
          "text": [
            "HTML file 'output.html' generated successfully.\n"
          ]
        }
      ]
    },
    {
      "cell_type": "code",
      "source": [],
      "metadata": {
        "id": "dfRSmKER3Ar-"
      },
      "execution_count": null,
      "outputs": []
    }
  ]
}