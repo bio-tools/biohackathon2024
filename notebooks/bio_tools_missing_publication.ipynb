{
 "cells": [
  {
   "cell_type": "markdown",
   "metadata": {},
   "source": [
    "# Bio.tools | Update Publication Information using EuropePMC\n",
    "\n",
    "This is a notebook for completing missing publication information in bio.tools using EuropePMC.\n",
    "It also includes:\n",
    "\n",
    "* saving open access publication information with corresponding tool name and biotoolsID;\n",
    "* creating subsets of different topics and saving to json.\n",
    "\n",
    "Up-to-date biotools dumps can be found in this repo under biotoolspub/biotoolsdumps.zip\n"
   ]
  },
  {
   "cell_type": "markdown",
   "metadata": {},
   "source": [
    "### Load bio.tools tools information"
   ]
  },
  {
   "cell_type": "code",
   "execution_count": null,
   "metadata": {},
   "outputs": [],
   "source": [
    "from bh24_literature_mining.utils import load_biotools_from_zip, save_to_json\n",
    "\n",
    "tools = load_biotools_from_zip(\"../biotoolspub/biotoolsdump.zip\", \"biotools.json\")"
   ]
  },
  {
   "cell_type": "markdown",
   "metadata": {},
   "source": [
    "### Get missing information from EuropePMC and save open access publications\n",
    "\n",
    "Takes ~4 hours to finish. (Dumps in biotoolspub/biotoolsdumps.zip are already up-to-date)"
   ]
  },
  {
   "cell_type": "code",
   "execution_count": null,
   "metadata": {},
   "outputs": [],
   "source": [
    "from europe_pmc import EuropePMC\n",
    "\n",
    "open_access_publications = []\n",
    "\n",
    "pmc_client = EuropePMC()\n",
    "\n",
    "\n",
    "for tool in tools:\n",
    "\n",
    "    publication = tool['publication']\n",
    "    pmc_publications = []\n",
    "\n",
    "    for pub in publication:\n",
    "        pub_id = pub.get('doi', 'pmid')\n",
    "        \n",
    "        if pub_id:\n",
    "            response = pmc_client.fetch(pub_id)\n",
    "\n",
    "            if response.data:\n",
    "                biotools_publication = {key: pub.get(key) for key in ['doi', 'pmid', 'pmcid']}\n",
    "\n",
    "                pmc_publication = {key: response.data.get(key) for key in ['doi', 'pmid', 'pmcid']}\n",
    "    \n",
    "                # Select final publication to be added to tool\n",
    "                final_publication = pmc_publication if biotools_publication != pmc_publication else biotools_publication\n",
    "                \n",
    "                # Add 'type' field to publication from pub\n",
    "                final_publication['type'] = pub.get('type')\n",
    "                \n",
    "                pmc_publications.append(final_publication)\n",
    "\n",
    "                if response.data.get('isOpenAccess') == 'Y':\n",
    "                    open_access_publications.append([tool['biotoolsID'], tool['name'], final_publication])\n",
    "\n",
    "    tool['publication'] = pmc_publication\n",
    "\n",
    "\n",
    "save_to_json(tools, 'biotools.json')\n",
    "save_to_json(open_access_publications, 'open_access_publications.json')\n"
   ]
  },
  {
   "cell_type": "markdown",
   "metadata": {},
   "source": [
    "### Create subsets of tools by topic (Proteomics, Metabolomics and RNA-Seq)\n",
    "\n",
    "Filter tools and save to json files."
   ]
  },
  {
   "cell_type": "code",
   "execution_count": null,
   "metadata": {},
   "outputs": [],
   "source": [
    "def filter_tools_by_topic(tools, topic_name):\n",
    "    \n",
    "    tools_subset = [\n",
    "        tool for tool in tools if any(topic['term'] == topic_name for topic in tool['topic'])\n",
    "    ]\n",
    "\n",
    "    file_name = topic_name.lower() + '_tools.json'\n",
    "    save_to_json(tools_subset, file_name)\n",
    "\n",
    "    return tools_subset"
   ]
  },
  {
   "cell_type": "code",
   "execution_count": null,
   "metadata": {},
   "outputs": [],
   "source": [
    "filter_tools_by_topic(tools, 'Proteomics')\n",
    "filter_tools_by_topic(tools, 'Metabolomics')\n",
    "filter_tools_by_topic(tools, 'RNA-Seq')"
   ]
  }
 ],
 "metadata": {
  "kernelspec": {
   "display_name": "BioHackathon 2024",
   "language": "python",
   "name": "biohackathon-2024"
  },
  "language_info": {
   "codemirror_mode": {
    "name": "ipython",
    "version": 3
   },
   "file_extension": ".py",
   "mimetype": "text/x-python",
   "name": "python",
   "nbconvert_exporter": "python",
   "pygments_lexer": "ipython3",
   "version": "3.12.3"
  }
 },
 "nbformat": 4,
 "nbformat_minor": 4
}
