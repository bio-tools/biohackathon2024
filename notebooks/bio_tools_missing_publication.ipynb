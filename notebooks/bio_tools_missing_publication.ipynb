{
 "cells": [
  {
   "cell_type": "markdown",
   "metadata": {},
   "source": [
    "# Bio.tools | filling in missing publication information\n",
    "\n",
    "This is a notebook for completing missing publication information in bio.tools using EuropePMC and saving open access publication information and corresponding tool name."
   ]
  },
  {
   "cell_type": "code",
   "execution_count": null,
   "metadata": {},
   "outputs": [],
   "source": [
    "from europe_pmc import EuropePMC\n",
    "from bh24_literature_mining.utils import load_biotools_from_zip, save_to_json\n",
    "\n",
    "# tools = load_biotools_from_json(\"../biotoolspub/biotools.json\")\n",
    "tools = load_biotools_from_zip(\"../biotoolspub/biotoolsdump.zip\")\n",
    "\n",
    "open_access_publications = []\n",
    "\n",
    "pmc_client = EuropePMC()\n",
    "\n",
    "\n",
    "for tool in tools:\n",
    "    publication = tool['publication']\n",
    "\n",
    "    pmc_publication = []\n",
    "\n",
    "    for pub in publication:\n",
    "        pub_id = pub.get('doi', 'pmid')\n",
    "        \n",
    "        if not pub_id:\n",
    "            continue\n",
    "\n",
    "        response = pmc_client.fetch(pub_id)\n",
    "\n",
    "        if not response.data:\n",
    "            continue\n",
    "    \n",
    "        pub = {key: pub.get(key) for key in ['doi', 'pmid', 'pmcid']}\n",
    "        pmc_pub = {key: response.data.get(key) for key in ['doi', 'pmid', 'pmcid']}\n",
    "       \n",
    "        pmc_publication.append(pmc_pub if pub != pmc_pub else pub)\n",
    "\n",
    "        if response.data.get('isOpenAccess') == 'Y':\n",
    "            open_access_publications.append({tool['name'], pmc_pub})\n",
    "\n",
    "\n",
    "\n",
    "    tool['publication'] = pmc_publication\n",
    "\n",
    "\n",
    "save_to_json(tools, 'biotools_updated_publication.json')\n",
    "save_to_json(open_access_publications, 'open_access_publications.json')\n"
   ]
  }
 ],
 "metadata": {
  "kernelspec": {
   "display_name": "BioHackathon 2024",
   "language": "python",
   "name": "biohackathon-2024"
  },
  "language_info": {
   "codemirror_mode": {
    "name": "ipython",
    "version": 3
   },
   "file_extension": ".py",
   "mimetype": "text/x-python",
   "name": "python",
   "nbconvert_exporter": "python",
   "pygments_lexer": "ipython3",
   "version": "3.12.3"
  }
 },
 "nbformat": 4,
 "nbformat_minor": 4
}
