{
 "cells": [
  {
   "cell_type": "code",
   "execution_count": null,
   "metadata": {},
   "outputs": [],
   "source": [
    "%load_ext autoreload\n",
    "%autoreload 2"
   ]
  },
  {
   "cell_type": "code",
   "execution_count": null,
   "metadata": {},
   "outputs": [],
   "source": [
    "from bh24_literature_mining.biotools import get_biotools\n",
    "\n",
    "# Get biotools from the biotoolspub.tsv\n",
    "biotools = get_biotools(\"../biotoolspub/biotoolspub_with_topic.tsv\")\n",
    "print(len(biotools))"
   ]
  },
  {
   "cell_type": "code",
   "execution_count": null,
   "metadata": {},
   "outputs": [],
   "source": [
    "from bh24_literature_mining.europepmc_api import identify_tool_mentions_using_europepmc\n",
    "\n",
    "tool_occurrences_df = identify_tool_mentions_using_europepmc(biotools[:100], article_limit=3)\n",
    "print(tool_occurrences_df.shape)\n"
   ]
  },
  {
   "cell_type": "code",
   "execution_count": null,
   "metadata": {},
   "outputs": [],
   "source": [
    "tool_occurrences_df"
   ]
  },
  {
   "cell_type": "code",
   "execution_count": null,
   "metadata": {},
   "outputs": [],
   "source": [
    "# Save the results to a CSV file\n",
    "tool_occurrences_df.to_csv(\"../biotoolspub/training_annotations/mentions_with_topics.csv\", index=False)\n"
   ]
  },
  {
   "cell_type": "code",
   "execution_count": null,
   "metadata": {},
   "outputs": [],
   "source": [
    "import pandas as pd\n",
    "tool_occurrences_df = pd.read_csv(\"../biotoolspub/tmp.csv\")\n",
    "from bh24_literature_mining.europepmc_api import split_train_test_dev\n",
    "train_df, test_df, dev_df = split_train_test_dev(tool_occurrences_df,0.7)\n",
    "# Verify the sizes\n",
    "print(\"Size of df:\", len(tool_occurrences_df))\n",
    "print(\"Train set size:\", len(train_df))\n",
    "print(\"Test set size:\", len(test_df))\n",
    "print(\"Dev set size:\", len(dev_df))\n",
    "dev_df.sample(n=min(10, len(dev_df)))"
   ]
  },
  {
   "cell_type": "code",
   "execution_count": null,
   "metadata": {},
   "outputs": [],
   "source": [
    "from bh24_literature_mining.europepmc_api import convert_to_IOB_format_from_df\n",
    "\n",
    "\n",
    "output_folder = '../data/'\n",
    "\n",
    "#Convert train, dev, and test dataframes to IOB format\n",
    "convert_to_IOB_format_from_df(train_df, output_folder, 'train_IOB.tsv')\n",
    "convert_to_IOB_format_from_df(dev_df, output_folder, 'dev_IOB.tsv')\n",
    "convert_to_IOB_format_from_df(test_df, output_folder, 'test_IOB.tsv')"
   ]
  }
 ],
 "metadata": {
  "kernelspec": {
   "display_name": "myenv",
   "language": "python",
   "name": "python3"
  },
  "language_info": {
   "codemirror_mode": {
    "name": "ipython",
    "version": 3
   },
   "file_extension": ".py",
   "mimetype": "text/x-python",
   "name": "python",
   "nbconvert_exporter": "python",
   "pygments_lexer": "ipython3",
   "version": "3.12.1"
  }
 },
 "nbformat": 4,
 "nbformat_minor": 2
}
