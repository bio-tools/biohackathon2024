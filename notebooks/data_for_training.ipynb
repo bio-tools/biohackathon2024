{
 "cells": [
  {
   "cell_type": "code",
   "execution_count": 1,
   "metadata": {},
   "outputs": [],
   "source": [
    "%load_ext autoreload\n",
    "%autoreload 2"
   ]
  },
  {
   "cell_type": "code",
   "execution_count": null,
   "metadata": {},
   "outputs": [
    {
     "name": "stdout",
     "output_type": "stream",
     "text": [
      "15005\n"
     ]
    }
   ],
   "source": [
    "from bh24_literature_mining.biotools import get_biotools\n",
    "\n",
    "biotools = get_biotools()\n",
    "print(len(biotools))"
   ]
  },
  {
   "cell_type": "code",
   "execution_count": null,
   "metadata": {},
   "outputs": [],
   "source": [
    "from pathlib import Path\n",
    "from bh24_literature_mining.europepmc_api import EuropePMCClient, write_tool_mentions_to_file\n",
    "from bh24_literature_mining.europepmc_api import identify_tool_mentions_in_sentences\n",
    "import pandas as pd\n",
    "\n",
    "results_list = []\n",
    "\n",
    "client = EuropePMCClient()\n",
    "\n",
    "for tool in biotools[:1]:\n",
    "    # Call bio.tools query and get a list of Article objects\n",
    "    \n",
    "    biotools_articles = client.search_mentions(tool.name)\n",
    "\n",
    "    if len(biotools_articles) == 0:\n",
    "        continue\n",
    "    first_article = biotools_articles[0]\n",
    "\n",
    "    relevant_parahraphs = client.get_relevant_paragraphs(first_article.pmcid, tool.name)\n",
    "    if len(relevant_parahraphs) == 0:\n",
    "        print(\"No relevant paragraphs found\", tool.name)\n",
    "        continue\n",
    "    \n",
    "    tool.get_topics()\n",
    "\n",
    "\n",
    "    result = identify_tool_mentions_in_sentences(first_article.pmcid, tool, relevant_parahraphs)\n",
    "    results_list.extend(result)"
   ]
  },
  {
   "cell_type": "code",
   "execution_count": null,
   "metadata": {},
   "outputs": [],
   "source": [
    "result_df = pd.DataFrame(results_list, columns=[\"PMCID\", \"Sentence\", \"NER_Tags\"])\n",
    "result_df = result_df.explode(\"NER_Tags\").drop_duplicates()\n",
    "\n",
    "# p = Path(__file__).resolve().parents[2]\n",
    "# print(p)\n",
    "result_df.to_csv(\"/Users/vedran/Desktop/tmp.csv\", index=False)"
   ]
  },
  {
   "cell_type": "code",
   "execution_count": null,
   "metadata": {},
   "outputs": [],
   "source": [
    "result_df.sample(1)"
   ]
  }
 ],
 "metadata": {
  "kernelspec": {
   "display_name": "biohackathon-2024",
   "language": "python",
   "name": "biohackathon-2024"
  },
  "language_info": {
   "codemirror_mode": {
    "name": "ipython",
    "version": 3
   },
   "file_extension": ".py",
   "mimetype": "text/x-python",
   "name": "python",
   "nbconvert_exporter": "python",
   "pygments_lexer": "ipython3",
   "version": "3.11.2"
  }
 },
 "nbformat": 4,
 "nbformat_minor": 2
}
