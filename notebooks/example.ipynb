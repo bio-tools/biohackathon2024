{
 "cells": [
  {
   "cell_type": "markdown",
   "metadata": {},
   "source": [
    "# Example notebook\n",
    "\n",
    "Here we get the Article classes for all given bio.tools tools."
   ]
  },
  {
   "cell_type": "code",
   "execution_count": null,
   "metadata": {},
   "outputs": [],
   "source": [
    "%load_ext autoreload\n",
    "%autoreload 2"
   ]
  },
  {
   "cell_type": "code",
   "execution_count": null,
   "metadata": {},
   "outputs": [],
   "source": [
    "from bh24_literature_mining.utils import load_biotools_pub\n",
    "from bh24_literature_mining.biotools import Tool_entry\n",
    "\n",
    "tools = load_biotools_pub(\"../biotoolspub/biotoolspub.tsv\")\n",
    "\n",
    "# Initialize set to track unique names and a list to store Biotool objects\n",
    "tools_lower = set()\n",
    "unique_biotools = []\n",
    "\n",
    "# Iterate over the rows in the DataFrame\n",
    "for _, row in tools.iterrows():\n",
    "    name = row[\"name\"]\n",
    "    biotools_id = row[\"biotoolsID\"]\n",
    "    name_lower = name.lower()\n",
    "\n",
    "    # Only add unique tools based on name\n",
    "    if name_lower not in tools_lower:\n",
    "        tools_lower.add(name_lower)  # Add to the set to track uniqueness\n",
    "        # Create a Biotool object and add it to the list\n",
    "        biotool = Tool_entry(biotool_id=biotools_id, name=name)\n",
    "        unique_biotools.append(biotool)\n",
    "\n",
    "\n",
    "print(len(unique_biotools))"
   ]
  },
  {
   "cell_type": "markdown",
   "metadata": {},
   "source": [
    "## Example on how to use europepmc_api"
   ]
  },
  {
   "cell_type": "code",
   "execution_count": null,
   "metadata": {},
   "outputs": [],
   "source": [
    "from pathlib import Path\n",
    "from bh24_literature_mining.europepmc_api import EuropePMCClient, write_tool_mentions_to_file\n",
    "from bh24_literature_mining.europepmc_api import identify_tool_mentions_in_sentences\n",
    "import pandas as pd\n",
    "\n",
    "results_list = []\n",
    "\n",
    "client = EuropePMCClient()\n",
    "\n",
    "for tool in unique_biotools[:100]:\n",
    "    # Call bio.tools query and get a list of Article objects\n",
    "    \n",
    "    biotools_articles = client.search_mentions(tool.name)\n",
    "\n",
    "    if len(biotools_articles) == 0:\n",
    "        continue\n",
    "    first_article = biotools_articles[0]\n",
    "\n",
    "    relevant_parahraphs = client.get_relevant_paragraphs(first_article.pmcid, tool.name)\n",
    "    if len(relevant_parahraphs) == 0:\n",
    "        print(\"No relevant paragraphs found\", tool.name)\n",
    "        continue\n",
    "    \n",
    "    tool.get_topics()\n",
    "\n",
    "\n",
    "    result = identify_tool_mentions_in_sentences(first_article.pmcid, tool, relevant_parahraphs)\n",
    "    results_list.extend(result)\n"
   ]
  },
  {
   "cell_type": "code",
   "execution_count": null,
   "metadata": {},
   "outputs": [],
   "source": [
    "\n",
    "result_df = pd.DataFrame(results_list, columns=[\"PMCID\", \"Sentence\", \"NER_Tags\"])\n",
    "result_df = result_df.explode(\"NER_Tags\").drop_duplicates()\n",
    "\n",
    "# p = Path(__file__).resolve().parents[2]\n",
    "# print(p)\n",
    "result_df.to_csv(\"/Users/vedran/Desktop/tmp.csv\", index=False)\n",
    "\n"
   ]
  },
  {
   "cell_type": "code",
   "execution_count": null,
   "metadata": {},
   "outputs": [],
   "source": [
    "len(results_list)"
   ]
  },
  {
   "cell_type": "code",
   "execution_count": null,
   "metadata": {},
   "outputs": [],
   "source": []
  },
  {
   "cell_type": "code",
   "execution_count": null,
   "metadata": {},
   "outputs": [],
   "source": [
    "result_df.sample(1)"
   ]
  },
  {
   "cell_type": "code",
   "execution_count": null,
   "metadata": {},
   "outputs": [],
   "source": []
  }
 ],
 "metadata": {
  "kernelspec": {
   "display_name": "bh24-literature-mining-3mhmtudb-py3.12",
   "language": "python",
   "name": "python3"
  },
  "language_info": {
   "codemirror_mode": {
    "name": "ipython",
    "version": 3
   },
   "file_extension": ".py",
   "mimetype": "text/x-python",
   "name": "python",
   "nbconvert_exporter": "python",
   "pygments_lexer": "ipython3",
   "version": "3.12.7"
  }
 },
 "nbformat": 4,
 "nbformat_minor": 4
}
