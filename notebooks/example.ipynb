{
 "cells": [
  {
   "cell_type": "markdown",
   "metadata": {},
   "source": [
    "# Example notebook\n",
    "\n",
    "Here we get the Article classes for all given bio.tools tools."
   ]
  },
  {
   "cell_type": "code",
   "execution_count": 52,
   "metadata": {},
   "outputs": [
    {
     "name": "stdout",
     "output_type": "stream",
     "text": [
      "The autoreload extension is already loaded. To reload it, use:\n",
      "  %reload_ext autoreload\n"
     ]
    }
   ],
   "source": [
    "%load_ext autoreload\n",
    "%autoreload 2"
   ]
  },
  {
   "cell_type": "code",
   "execution_count": 1,
   "metadata": {},
   "outputs": [
    {
     "name": "stdout",
     "output_type": "stream",
     "text": [
      "15005\n"
     ]
    }
   ],
   "source": [
    "from bh24_literature_mining.utils import load_biotools_pub\n",
    "\n",
    "tools = load_biotools_pub(\"../biotoolspub/biotoolspub.tsv\")\n",
    "\n",
    "tools_lower = set()\n",
    "\n",
    "for index, row in tools.iterrows():\n",
    "    name = row[\"name\"]\n",
    "    biotoolsID = row[\"biotoolsID\"]\n",
    "\n",
    "    link = row[\"file_path\"]\n",
    "    # print(f\"Name: {name}, PubMed ID: {biotoolsID}, Link: {link}\")\n",
    "    tools_lower.add(name.lower())\n",
    "\n",
    "\n",
    "print(len(tools_lower))"
   ]
  },
  {
   "cell_type": "markdown",
   "metadata": {},
   "source": [
    "## Example on how to use europepmc_api"
   ]
  },
  {
   "cell_type": "code",
   "execution_count": 66,
   "metadata": {},
   "outputs": [
    {
     "name": "stdout",
     "output_type": "stream",
     "text": [
      "No relevant paragraphs found subtiwiki\n",
      "No relevant paragraphs found metapathways\n",
      "No relevant paragraphs found metapathways\n",
      "No relevant paragraphs found mzmine\n",
      "No relevant paragraphs found iphop\n",
      "1\n",
      "No relevant paragraphs found jalview\n",
      "1\n",
      "1\n",
      "1\n",
      "1\n"
     ]
    }
   ],
   "source": [
    "from pathlib import Path\n",
    "from bh24_literature_mining.europepmc_api import EuropePMCClient, write_tool_mentions_to_file\n",
    "from bh24_literature_mining.europepmc_api import identify_tool_mentions_in_sentences\n",
    "import pandas as pd\n",
    "client = EuropePMCClient()\n",
    "\n",
    "results_list = []\n",
    "\n",
    "for index, tool in tools.iterrows():\n",
    "    if(index > 10):\n",
    "        break\n",
    "    # Call bio.tools query and get a list of Article objects\n",
    "    tool_name = str(tool[\"name\"]).lower()\n",
    "    tool_id = str(tool[\"biotoolsID\"])\n",
    "    biotools_articles = client.search_mentions(tool_name)\n",
    "\n",
    "    if len(biotools_articles) == 0:\n",
    "        continue\n",
    "    first_article = biotools_articles[0]\n",
    "\n",
    "    relevant_parahraphs = client.get_relevant_paragraphs(first_article.pmcid, tool_name)\n",
    "    if len(relevant_parahraphs) == 0:\n",
    "        print(\"No relevant paragraphs found\", tool_name)\n",
    "        continue\n",
    "\n",
    "\n",
    "    result = identify_tool_mentions_in_sentences(first_article.pmcid, tool_name, tool_id, relevant_parahraphs)\n",
    "    print(len(result))\n",
    "    results_list.extend(result)\n"
   ]
  },
  {
   "cell_type": "code",
   "execution_count": 32,
   "metadata": {},
   "outputs": [
    {
     "data": {
      "text/plain": [
       "[['PMC11491431',\n",
       "  'Utilizing two methods for handling missing values—imputation or deletion—we created various cohorts: DM-all, DM-slim, OS-all, OS-slim, CSS-all, and CSS-slim.',\n",
       "  [(112, 116, 'slim', 'SLiM_software')]],\n",
       " ['PMC11373567',\n",
       "  'By contrast, ITHANET (https://www.ithanet.eu/; accessed on 17 April 2024) is a web portal initially conceived specifically for hemoglobinopathies, which, as of this writing, holds in its databases sequence and functional annotation for 3462 variants in 538 genes.',\n",
       "  [(34, 41, 'ithanet', 'the_ithanet_portal')]],\n",
       " ['PMC11373567',\n",
       "  'By contrast, ITHANET (https://www.ithanet.eu/; accessed on 17 April 2024) is a web portal initially conceived specifically for hemoglobinopathies, which, as of this writing, holds in its databases sequence and functional annotation for 3462 variants in 538 genes.',\n",
       "  [(34, 41, 'ithanet', 'the_ithanet_portal')]],\n",
       " ['PMC11373567',\n",
       "  'By contrast, ITHANET (https://www.ithanet.eu/; accessed on 17 April 2024) is a web portal initially conceived specifically for hemoglobinopathies, which, as of this writing, holds in its databases sequence and functional annotation for 3462 variants in 538 genes.',\n",
       "  [(34, 41, 'ithanet', 'the_ithanet_portal')]],\n",
       " ['PMC11373567',\n",
       "  'By contrast, ITHANET (https://www.ithanet.eu/; accessed on 17 April 2024) is a web portal initially conceived specifically for hemoglobinopathies, which, as of this writing, holds in its databases sequence and functional annotation for 3462 variants in 538 genes.',\n",
       "  [(34, 41, 'ithanet', 'the_ithanet_portal')]]]"
      ]
     },
     "execution_count": 32,
     "metadata": {},
     "output_type": "execute_result"
    }
   ],
   "source": [
    "results_list"
   ]
  },
  {
   "cell_type": "code",
   "execution_count": 40,
   "metadata": {},
   "outputs": [
    {
     "name": "stdout",
     "output_type": "stream",
     "text": [
      "/home/tess/biohackathon2024/generate_data/ner_tag_final.csv\n"
     ]
    }
   ],
   "source": [
    "\n",
    "result_df = pd.DataFrame(results_list, columns=[\"PMCID\", \"Sentence\", \"NER_Tags\"])\n",
    "result_df = result_df.explode(\"NER_Tags\")\n",
    "\n",
    "# p = Path(__file__).resolve().parents[2]\n",
    "# print(p)\n",
    "print(\"/home/tess/biohackathon2024/generate_data/ner_tag_final.csv\")\n",
    "result_df.to_csv(\"/home/tess/biohackathon2024/generate_data/ner_tag_final.csv\", index=False)\n",
    "\n"
   ]
  },
  {
   "cell_type": "code",
   "execution_count": 35,
   "metadata": {},
   "outputs": [
    {
     "data": {
      "text/plain": [
       "5"
      ]
     },
     "execution_count": 35,
     "metadata": {},
     "output_type": "execute_result"
    }
   ],
   "source": [
    "len(results_list)"
   ]
  },
  {
   "cell_type": "code",
   "execution_count": null,
   "metadata": {},
   "outputs": [],
   "source": []
  },
  {
   "cell_type": "code",
   "execution_count": 26,
   "metadata": {},
   "outputs": [
    {
     "data": {
      "text/html": [
       "<div>\n",
       "<style scoped>\n",
       "    .dataframe tbody tr th:only-of-type {\n",
       "        vertical-align: middle;\n",
       "    }\n",
       "\n",
       "    .dataframe tbody tr th {\n",
       "        vertical-align: top;\n",
       "    }\n",
       "\n",
       "    .dataframe thead th {\n",
       "        text-align: right;\n",
       "    }\n",
       "</style>\n",
       "<table border=\"1\" class=\"dataframe\">\n",
       "  <thead>\n",
       "    <tr style=\"text-align: right;\">\n",
       "      <th></th>\n",
       "      <th>PMCID</th>\n",
       "      <th>Sentence</th>\n",
       "      <th>NER_Tags</th>\n",
       "    </tr>\n",
       "  </thead>\n",
       "  <tbody>\n",
       "    <tr>\n",
       "      <th>0</th>\n",
       "      <td>PMC11373567</td>\n",
       "      <td>By contrast, ITHANET (https://www.ithanet.eu/;...</td>\n",
       "      <td>(34, 41, ithanet, the_ithanet_portal)</td>\n",
       "    </tr>\n",
       "  </tbody>\n",
       "</table>\n",
       "</div>"
      ],
      "text/plain": [
       "         PMCID                                           Sentence  \\\n",
       "0  PMC11373567  By contrast, ITHANET (https://www.ithanet.eu/;...   \n",
       "\n",
       "                                NER_Tags  \n",
       "0  (34, 41, ithanet, the_ithanet_portal)  "
      ]
     },
     "execution_count": 26,
     "metadata": {},
     "output_type": "execute_result"
    }
   ],
   "source": [
    "result_df.sample(1)"
   ]
  },
  {
   "cell_type": "code",
   "execution_count": null,
   "metadata": {},
   "outputs": [],
   "source": []
  }
 ],
 "metadata": {
  "kernelspec": {
   "display_name": "bh24-literature-mining-3mhmtudb-py3.12",
   "language": "python",
   "name": "python3"
  },
  "language_info": {
   "codemirror_mode": {
    "name": "ipython",
    "version": 3
   },
   "file_extension": ".py",
   "mimetype": "text/x-python",
   "name": "python",
   "nbconvert_exporter": "python",
   "pygments_lexer": "ipython3",
   "version": "3.12.7"
  }
 },
 "nbformat": 4,
 "nbformat_minor": 4
}
