{
 "cells": [
  {
   "cell_type": "code",
   "execution_count": 20,
   "metadata": {},
   "outputs": [
    {
     "name": "stdout",
     "output_type": "stream",
     "text": [
      "The autoreload extension is already loaded. To reload it, use:\n",
      "  %reload_ext autoreload\n"
     ]
    }
   ],
   "source": [
    "%load_ext autoreload\n",
    "%autoreload 2"
   ]
  },
  {
   "cell_type": "code",
   "execution_count": 21,
   "metadata": {},
   "outputs": [
    {
     "name": "stdout",
     "output_type": "stream",
     "text": [
      "15005\n"
     ]
    }
   ],
   "source": [
    "from bh24_literature_mining.biotools import get_biotools\n",
    "\n",
    "# Get biotools from the biotoolspub.tsv\n",
    "biotools = get_biotools(\"../biotoolspub/biotoolspub.tsv\")\n",
    "print(len(biotools))"
   ]
  },
  {
   "cell_type": "code",
   "execution_count": null,
   "metadata": {},
   "outputs": [
    {
     "name": "stdout",
     "output_type": "stream",
     "text": [
      "(4, 4)\n"
     ]
    }
   ],
   "source": [
    "\n",
    "from bh24_literature_mining.europepmc_api import identify_tool_mentions_using_europepmc\n",
    "\n",
    "tool_occurrences_df = identify_tool_mentions_using_europepmc(biotools[:1])\n",
    "print(tool_occurrences_df.shape)\n"
   ]
  },
  {
   "cell_type": "code",
   "execution_count": 23,
   "metadata": {},
   "outputs": [
    {
     "data": {
      "text/html": [
       "<div>\n",
       "<style scoped>\n",
       "    .dataframe tbody tr th:only-of-type {\n",
       "        vertical-align: middle;\n",
       "    }\n",
       "\n",
       "    .dataframe tbody tr th {\n",
       "        vertical-align: top;\n",
       "    }\n",
       "\n",
       "    .dataframe thead th {\n",
       "        text-align: right;\n",
       "    }\n",
       "</style>\n",
       "<table border=\"1\" class=\"dataframe\">\n",
       "  <thead>\n",
       "    <tr style=\"text-align: right;\">\n",
       "      <th></th>\n",
       "      <th>PMCID</th>\n",
       "      <th>Sentence</th>\n",
       "      <th>NER_Tags</th>\n",
       "      <th>Topics</th>\n",
       "    </tr>\n",
       "  </thead>\n",
       "  <tbody>\n",
       "    <tr>\n",
       "      <th>2</th>\n",
       "      <td>PMC11286849</td>\n",
       "      <td>The identified proteins also included 52 (70%)...</td>\n",
       "      <td>[(120, 129, SubtiWiki, subtiwiki)]</td>\n",
       "      <td>Molecular interactions, pathways and networks,...</td>\n",
       "    </tr>\n",
       "  </tbody>\n",
       "</table>\n",
       "</div>"
      ],
      "text/plain": [
       "         PMCID                                           Sentence  \\\n",
       "2  PMC11286849  The identified proteins also included 52 (70%)...   \n",
       "\n",
       "                             NER_Tags  \\\n",
       "2  [(120, 129, SubtiWiki, subtiwiki)]   \n",
       "\n",
       "                                              Topics  \n",
       "2  Molecular interactions, pathways and networks,...  "
      ]
     },
     "execution_count": 23,
     "metadata": {},
     "output_type": "execute_result"
    }
   ],
   "source": [
    "tool_occurrences_df.sample(1)"
   ]
  },
  {
   "cell_type": "code",
   "execution_count": 33,
   "metadata": {},
   "outputs": [],
   "source": [
    "# Save the results to a CSV file\n",
    "tool_occurrences_df.to_csv(\"../biotoolspub/tmp.csv\", index=False)"
   ]
  },
  {
   "cell_type": "code",
   "execution_count": 1,
   "metadata": {},
   "outputs": [
    {
     "data": {
      "text/html": [
       "<div>\n",
       "<style scoped>\n",
       "    .dataframe tbody tr th:only-of-type {\n",
       "        vertical-align: middle;\n",
       "    }\n",
       "\n",
       "    .dataframe tbody tr th {\n",
       "        vertical-align: top;\n",
       "    }\n",
       "\n",
       "    .dataframe thead th {\n",
       "        text-align: right;\n",
       "    }\n",
       "</style>\n",
       "<table border=\"1\" class=\"dataframe\">\n",
       "  <thead>\n",
       "    <tr style=\"text-align: right;\">\n",
       "      <th></th>\n",
       "      <th>PMCID</th>\n",
       "      <th>NER_Tags</th>\n",
       "      <th>Sentence</th>\n",
       "    </tr>\n",
       "  </thead>\n",
       "  <tbody>\n",
       "    <tr>\n",
       "      <th>0</th>\n",
       "      <td>PMC11286849</td>\n",
       "      <td>[(233, 242, SubtiWiki, subtiwiki), (54, 63, Su...</td>\n",
       "      <td>Using this technique, we identified 445 protei...</td>\n",
       "    </tr>\n",
       "    <tr>\n",
       "      <th>1</th>\n",
       "      <td>PMC11286849</td>\n",
       "      <td>[(233, 242, SubtiWiki, subtiwiki), (54, 63, Su...</td>\n",
       "      <td>Using this technique, we identified 445 protei...</td>\n",
       "    </tr>\n",
       "    <tr>\n",
       "      <th>2</th>\n",
       "      <td>PMC11286849</td>\n",
       "      <td>[(233, 242, SubtiWiki, subtiwiki), (54, 63, Su...</td>\n",
       "      <td>Using this technique, we identified 445 protei...</td>\n",
       "    </tr>\n",
       "    <tr>\n",
       "      <th>3</th>\n",
       "      <td>PMC11286849</td>\n",
       "      <td>[(233, 242, SubtiWiki, subtiwiki), (54, 63, Su...</td>\n",
       "      <td>Using this technique, we identified 445 protei...</td>\n",
       "    </tr>\n",
       "    <tr>\n",
       "      <th>4</th>\n",
       "      <td>PMC10832249</td>\n",
       "      <td>[(0, 12, MetaPathways, metapathways), (0, 12, ...</td>\n",
       "      <td>MetaPathways v2.5 [37] was used to create the ...</td>\n",
       "    </tr>\n",
       "  </tbody>\n",
       "</table>\n",
       "</div>"
      ],
      "text/plain": [
       "         PMCID                                           NER_Tags  \\\n",
       "0  PMC11286849  [(233, 242, SubtiWiki, subtiwiki), (54, 63, Su...   \n",
       "1  PMC11286849  [(233, 242, SubtiWiki, subtiwiki), (54, 63, Su...   \n",
       "2  PMC11286849  [(233, 242, SubtiWiki, subtiwiki), (54, 63, Su...   \n",
       "3  PMC11286849  [(233, 242, SubtiWiki, subtiwiki), (54, 63, Su...   \n",
       "4  PMC10832249  [(0, 12, MetaPathways, metapathways), (0, 12, ...   \n",
       "\n",
       "                                            Sentence  \n",
       "0  Using this technique, we identified 445 protei...  \n",
       "1  Using this technique, we identified 445 protei...  \n",
       "2  Using this technique, we identified 445 protei...  \n",
       "3  Using this technique, we identified 445 protei...  \n",
       "4  MetaPathways v2.5 [37] was used to create the ...  "
      ]
     },
     "execution_count": 1,
     "metadata": {},
     "output_type": "execute_result"
    }
   ],
   "source": [
    "from bh24_literature_mining.europepmc_api import filter_trainning_data\n",
    "\n",
    "df = filter_trainning_data(\"/home/tess/biohackathon2024/mentions - montions.csv\")\n",
    "df.head()"
   ]
  }
 ],
 "metadata": {
  "kernelspec": {
   "display_name": "bh24-literature-mining-3mhmtudb-py3.12",
   "language": "python",
   "name": "python3"
  },
  "language_info": {
   "codemirror_mode": {
    "name": "ipython",
    "version": 3
   },
   "file_extension": ".py",
   "mimetype": "text/x-python",
   "name": "python",
   "nbconvert_exporter": "python",
   "pygments_lexer": "ipython3",
   "version": "3.12.7"
  }
 },
 "nbformat": 4,
 "nbformat_minor": 2
}
