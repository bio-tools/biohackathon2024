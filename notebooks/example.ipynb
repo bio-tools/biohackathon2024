{
 "cells": [
  {
   "cell_type": "markdown",
   "metadata": {},
   "source": [
    "# Example notebook\n",
    "\n",
    "Here we get the Article classes for all given bio.tools tools."
   ]
  },
  {
   "cell_type": "code",
   "execution_count": 1,
   "metadata": {},
   "outputs": [],
   "source": [
    "%load_ext autoreload\n",
    "%autoreload 2"
   ]
  },
  {
   "cell_type": "code",
   "execution_count": 2,
   "metadata": {},
   "outputs": [
    {
     "name": "stdout",
     "output_type": "stream",
     "text": [
      "15005\n"
     ]
    }
   ],
   "source": [
    "from bh24_literature_mining.utils import load_biotools_pub\n",
    "\n",
    "tools = load_biotools_pub(\"../biotoolspub/biotoolspub.tsv\")\n",
    "\n",
    "tools_lower = set()\n",
    "\n",
    "for index, row in tools.iterrows():\n",
    "    name = row[\"name\"]\n",
    "    biotoolsID = row[\"biotoolsID\"]\n",
    "\n",
    "    link = row[\"file_path\"]\n",
    "    # print(f\"Name: {name}, PubMed ID: {biotoolsID}, Link: {link}\")\n",
    "    tools_lower.add(name.lower())\n",
    "\n",
    "\n",
    "print(len(tools_lower))"
   ]
  },
  {
   "cell_type": "markdown",
   "metadata": {},
   "source": [
    "## Example on how to use europepmc_api"
   ]
  },
  {
   "cell_type": "code",
   "execution_count": 3,
   "metadata": {},
   "outputs": [
    {
     "name": "stdout",
     "output_type": "stream",
     "text": [
      "No relevant paragraphs found subtiwiki\n",
      "No relevant paragraphs found metapathways\n",
      "No relevant paragraphs found metapathways\n",
      "No relevant paragraphs found mzmine\n",
      "No relevant paragraphs found iphop\n",
      "28\n",
      "No relevant paragraphs found jalview\n",
      "4\n",
      "4\n",
      "4\n",
      "4\n"
     ]
    }
   ],
   "source": [
    "from pathlib import Path\n",
    "from bh24_literature_mining.europepmc_api import EuropePMCClient, write_tool_mentions_to_file\n",
    "from bh24_literature_mining.europepmc_api import identify_tool_mentions_in_sentences\n",
    "import pandas as pd\n",
    "client = EuropePMCClient()\n",
    "\n",
    "results_list = []\n",
    "\n",
    "for index, tool in tools.iterrows():\n",
    "    if(index > 10):\n",
    "        break\n",
    "    # Call bio.tools query and get a list of Article objects\n",
    "    tool_name = str(tool[\"name\"]).lower()\n",
    "    tool_id = str(tool[\"biotoolsID\"])\n",
    "    biotools_articles = client.search_mentions(tool_name)\n",
    "\n",
    "    if len(biotools_articles) == 0:\n",
    "        continue\n",
    "    first_article = biotools_articles[0]\n",
    "\n",
    "    relevant_parahraphs = client.get_relevant_paragraphs(first_article.pmcid, tool_name)\n",
    "    if len(relevant_parahraphs) == 0:\n",
    "        print(\"No relevant paragraphs found\", tool_name)\n",
    "        continue\n",
    "\n",
    "\n",
    "    result = identify_tool_mentions_in_sentences(first_article.pmcid, tool_name, tool_id, relevant_parahraphs)\n",
    "    print(len(result))\n",
    "    results_list.extend(result)\n"
   ]
  },
  {
   "cell_type": "code",
   "execution_count": 4,
   "metadata": {},
   "outputs": [
    {
     "data": {
      "text/plain": [
       "[['PMC11491431',\n",
       "  'Utilizing two methods for handling missing values—imputation or deletion—we created various cohorts: DM-all, DM-slim, OS-all, OS-slim, CSS-all, and CSS-slim.',\n",
       "  [(112, 116, 'slim', 'SLiM_software')]],\n",
       " ['PMC11491431',\n",
       "  'For the DM group, we created the DM-all cohort, where missing values were imputed, and the DM-slim cohort, which consists only of samples with complete data.',\n",
       "  [(94, 98, 'slim', 'SLiM_software')]],\n",
       " ['PMC11491431',\n",
       "  'For the OS group, we created the OS-all cohort with imputed missing values and the OS-slim cohort with only complete data.',\n",
       "  [(86, 90, 'slim', 'SLiM_software')]],\n",
       " ['PMC11491431',\n",
       "  'Similarly, the CSS-all cohort includes imputed data for the CSS group, while the CSS-slim cohort comprises only fully observed data.',\n",
       "  [(85, 89, 'slim', 'SLiM_software')]],\n",
       " ['PMC11491431',\n",
       "  'We trained five models using the training sets from DM-all and DM-slim cohorts and then tested the models on testing sets from DM-all and DM-slim cohorts.',\n",
       "  [(66, 70, 'slim', 'SLiM_software')]],\n",
       " ['PMC11491431',\n",
       "  'The OS-all, OS-slim, CSS-all, and CSS-slim cohorts were randomly separated into training (70%) and testing (30%) sets.',\n",
       "  [(15, 19, 'slim', 'SLiM_software')]],\n",
       " ['PMC11491431',\n",
       "  'Alternatively, we removed samples with any missing values, thus creating the DM-slim, OS-slim, and CSS-slim cohorts.',\n",
       "  [(80, 84, 'slim', 'SLiM_software')]],\n",
       " ['PMC11491431',\n",
       "  'The DM-slim cohort comprised 4,014 and 1,719 patients in the training and testing sets, respectively, with 8 variables.',\n",
       "  [(7, 11, 'slim', 'SLiM_software')]],\n",
       " ['PMC11491431',\n",
       "  'The OS-slim cohort included 3,605 patients in the training set and 1,542 in the testing set, with 14 clinical variables.',\n",
       "  [(7, 11, 'slim', 'SLiM_software')]],\n",
       " ['PMC11491431',\n",
       "  'In comparison, the CSS-slim cohort included 3,565 patients in the training set and 1,526 in the testing set with 14 clinical variables.',\n",
       "  [(23, 27, 'slim', 'SLiM_software')]],\n",
       " ['PMC11491431',\n",
       "  'Similarly, we trained and tested the machine learning models for the DM-slim cohort.',\n",
       "  [(72, 76, 'slim', 'SLiM_software')]],\n",
       " ['PMC11491431',\n",
       "  'Clinical variables such as N stage, age, and T stage were identified as having the most significant impact on DM prediction in the DM-slim cohort ( Figure\\xa03D ).',\n",
       "  [(134, 138, 'slim', 'SLiM_software')]],\n",
       " ['PMC11491431',\n",
       "  '(C) The AUC values of models in the testing set of DM-slim cohort.',\n",
       "  [(54, 58, 'slim', 'SLiM_software')]],\n",
       " ['PMC11491431',\n",
       "  '(D) The relative importance values clinical variables in the random forest model from the testing set of the DM-slim cohort.',\n",
       "  [(112, 116, 'slim', 'SLiM_software')]],\n",
       " ['PMC11491431',\n",
       "  'For the OS-slim cohort, which included 3,605 patients in the training set and 1,542 in the validation set with 14 clinical variables, the rfSRC_plus_stepCox combination displayed the highest mean C-index ( Figure\\xa04D ) and 5-year AUC ( Figure\\xa04E ) values of 0.742 and 0.782, respectively.',\n",
       "  [(11, 15, 'slim', 'SLiM_software')]],\n",
       " ['PMC11491431',\n",
       "  'The six most critical variables identified in predicting OS-slim were Age, M stage, T stage, radiation (No), N stage, and radiation (beam radiation) ( Figure\\xa04H ).',\n",
       "  [(60, 64, 'slim', 'SLiM_software')]],\n",
       " ['PMC11491431',\n",
       "  'The 45 machine learning combinations for predicting the OS in the OS-all and OS-slim cohorts.',\n",
       "  [(80, 84, 'slim', 'SLiM_software')]],\n",
       " ['PMC11491431',\n",
       "  'The C-index (D), 5-year AUC (E), and Brier score (F) of models in the OS-slim cohort.',\n",
       "  [(73, 77, 'slim', 'SLiM_software')]],\n",
       " ['PMC11491431',\n",
       "  'The importance values of clinical variables in the random survival forest model from the OS-all (G) and OS-slim (H) cohort.',\n",
       "  [(107, 111, 'slim', 'SLiM_software')]],\n",
       " ['PMC11491431',\n",
       "  'The CSS-slim dataset included 3565 patients in the training set and 1526 in the validation set, with 14 clinical variables.',\n",
       "  [(8, 12, 'slim', 'SLiM_software')]],\n",
       " ['PMC11491431',\n",
       "  'For the CSS-slim dataset, the top three most important variables were the M stage, Age, and T stage, as shown in  Figure\\xa05H .',\n",
       "  [(12, 16, 'slim', 'SLiM_software')]],\n",
       " ['PMC11491431',\n",
       "  'The 45 machine learning combinations for predicting the CSS in the CSS-all and CSS-slim cohorts.',\n",
       "  [(83, 87, 'slim', 'SLiM_software')]],\n",
       " ['PMC11491431',\n",
       "  'The C-index (D), 5-year AUC (E), and Brier score (F) of models in the CSS-slim cohort.',\n",
       "  [(74, 78, 'slim', 'SLiM_software')]],\n",
       " ['PMC11491431',\n",
       "  'The importance values of clinical variables in the random survival forest model from the CSS-all (G) and CSS-slim (H) cohort.',\n",
       "  [(109, 113, 'slim', 'SLiM_software')]],\n",
       " ['PMC11491431',\n",
       "  'This pattern was consistently observed across various datasets: in OS-all ( Figure\\xa06A ), OS-slim ( Figure\\xa06B ), CSS-all ( Figure\\xa06C ), and CSS-slim ( Figure\\xa06D ).',\n",
       "  [(92, 96, 'slim', 'SLiM_software')]],\n",
       " ['PMC11491431',\n",
       "  'KM curves of groups of OS from OS-all cohort (A) and OS-slim cohort (B).',\n",
       "  [(56, 60, 'slim', 'SLiM_software')]],\n",
       " ['PMC11491431',\n",
       "  'KM curves of groups of CSS from CSS-all cohort (C) and CSS-slim cohort (D).',\n",
       "  [(59, 63, 'slim', 'SLiM_software')]],\n",
       " ['PMC11491431',\n",
       "  'Conversely, the OS-slim cohort, formed under the deletion strategy, included 3,605 patients in the training set and 1,542 in the testing set, with only 14 clinical variables.',\n",
       "  [(19, 23, 'slim', 'SLiM_software')]],\n",
       " ['PMC11373567',\n",
       "  'By contrast, ITHANET (https://www.ithanet.eu/; accessed on 17 April 2024) is a web portal initially conceived specifically for hemoglobinopathies, which, as of this writing, holds in its databases sequence and functional annotation for 3462 variants in 538 genes.',\n",
       "  [(34, 41, 'ithanet', 'the_ithanet_portal')]],\n",
       " ['PMC11373567',\n",
       "  'The enormous diversity of causative β-globin mutations and modifier polymorphisms may be illustrated by using quick filters on ITHANET (www.ithanet.eu, accessed 17 April 2024).',\n",
       "  [(140, 147, 'ithanet', 'the_ithanet_portal')]],\n",
       " ['PMC11373567',\n",
       "  'Accordingly, for the quick filter “Haemoglobinopathy/β-thalassaemia” on ITHANET, 491 variants were found that affect the HBB gene and cause β-thalassemia (https://www.ithanet.eu/db/ithagenes?action=list&hem=2), whereas a quick filter for “Functionality/Disease modifying mutations” revealed 886 entries, many of which are associated with changes in β-thalassemia disease severity (https://www.ithanet.eu/db/ithagenes?action=list&func=2).',\n",
       "  [(167, 174, 'ithanet', 'the_ithanet_portal')]],\n",
       " ['PMC11373567',\n",
       "  'The IthaGenes database (https://www.ithanet.eu/db/ithagenes) [78] provides a graphical user interface with live and advanced search functionality and integrates and links gene and variant entries with other data on the ITHANET Portal and elsewhere.',\n",
       "  [(36, 43, 'ithanet', 'the_ithanet_portal')]],\n",
       " ['PMC11373567',\n",
       "  'By contrast, ITHANET (https://www.ithanet.eu/; accessed on 17 April 2024) is a web portal initially conceived specifically for hemoglobinopathies, which, as of this writing, holds in its databases sequence and functional annotation for 3462 variants in 538 genes.',\n",
       "  [(34, 41, 'ithanet', 'the_ithanet_portal')]],\n",
       " ['PMC11373567',\n",
       "  'The enormous diversity of causative β-globin mutations and modifier polymorphisms may be illustrated by using quick filters on ITHANET (www.ithanet.eu, accessed 17 April 2024).',\n",
       "  [(140, 147, 'ithanet', 'the_ithanet_portal')]],\n",
       " ['PMC11373567',\n",
       "  'Accordingly, for the quick filter “Haemoglobinopathy/β-thalassaemia” on ITHANET, 491 variants were found that affect the HBB gene and cause β-thalassemia (https://www.ithanet.eu/db/ithagenes?action=list&hem=2), whereas a quick filter for “Functionality/Disease modifying mutations” revealed 886 entries, many of which are associated with changes in β-thalassemia disease severity (https://www.ithanet.eu/db/ithagenes?action=list&func=2).',\n",
       "  [(167, 174, 'ithanet', 'the_ithanet_portal')]],\n",
       " ['PMC11373567',\n",
       "  'The IthaGenes database (https://www.ithanet.eu/db/ithagenes) [78] provides a graphical user interface with live and advanced search functionality and integrates and links gene and variant entries with other data on the ITHANET Portal and elsewhere.',\n",
       "  [(36, 43, 'ithanet', 'the_ithanet_portal')]],\n",
       " ['PMC11373567',\n",
       "  'By contrast, ITHANET (https://www.ithanet.eu/; accessed on 17 April 2024) is a web portal initially conceived specifically for hemoglobinopathies, which, as of this writing, holds in its databases sequence and functional annotation for 3462 variants in 538 genes.',\n",
       "  [(34, 41, 'ithanet', 'the_ithanet_portal')]],\n",
       " ['PMC11373567',\n",
       "  'The enormous diversity of causative β-globin mutations and modifier polymorphisms may be illustrated by using quick filters on ITHANET (www.ithanet.eu, accessed 17 April 2024).',\n",
       "  [(140, 147, 'ithanet', 'the_ithanet_portal')]],\n",
       " ['PMC11373567',\n",
       "  'Accordingly, for the quick filter “Haemoglobinopathy/β-thalassaemia” on ITHANET, 491 variants were found that affect the HBB gene and cause β-thalassemia (https://www.ithanet.eu/db/ithagenes?action=list&hem=2), whereas a quick filter for “Functionality/Disease modifying mutations” revealed 886 entries, many of which are associated with changes in β-thalassemia disease severity (https://www.ithanet.eu/db/ithagenes?action=list&func=2).',\n",
       "  [(167, 174, 'ithanet', 'the_ithanet_portal')]],\n",
       " ['PMC11373567',\n",
       "  'The IthaGenes database (https://www.ithanet.eu/db/ithagenes) [78] provides a graphical user interface with live and advanced search functionality and integrates and links gene and variant entries with other data on the ITHANET Portal and elsewhere.',\n",
       "  [(36, 43, 'ithanet', 'the_ithanet_portal')]],\n",
       " ['PMC11373567',\n",
       "  'By contrast, ITHANET (https://www.ithanet.eu/; accessed on 17 April 2024) is a web portal initially conceived specifically for hemoglobinopathies, which, as of this writing, holds in its databases sequence and functional annotation for 3462 variants in 538 genes.',\n",
       "  [(34, 41, 'ithanet', 'the_ithanet_portal')]],\n",
       " ['PMC11373567',\n",
       "  'The enormous diversity of causative β-globin mutations and modifier polymorphisms may be illustrated by using quick filters on ITHANET (www.ithanet.eu, accessed 17 April 2024).',\n",
       "  [(140, 147, 'ithanet', 'the_ithanet_portal')]],\n",
       " ['PMC11373567',\n",
       "  'Accordingly, for the quick filter “Haemoglobinopathy/β-thalassaemia” on ITHANET, 491 variants were found that affect the HBB gene and cause β-thalassemia (https://www.ithanet.eu/db/ithagenes?action=list&hem=2), whereas a quick filter for “Functionality/Disease modifying mutations” revealed 886 entries, many of which are associated with changes in β-thalassemia disease severity (https://www.ithanet.eu/db/ithagenes?action=list&func=2).',\n",
       "  [(167, 174, 'ithanet', 'the_ithanet_portal')]],\n",
       " ['PMC11373567',\n",
       "  'The IthaGenes database (https://www.ithanet.eu/db/ithagenes) [78] provides a graphical user interface with live and advanced search functionality and integrates and links gene and variant entries with other data on the ITHANET Portal and elsewhere.',\n",
       "  [(36, 43, 'ithanet', 'the_ithanet_portal')]]]"
      ]
     },
     "execution_count": 4,
     "metadata": {},
     "output_type": "execute_result"
    }
   ],
   "source": [
    "results_list"
   ]
  },
  {
   "cell_type": "code",
   "execution_count": 7,
   "metadata": {},
   "outputs": [
    {
     "name": "stdout",
     "output_type": "stream",
     "text": [
      "/home/tess/biohackathon2024/generate_data/ner_tag_final.csv\n"
     ]
    }
   ],
   "source": [
    "\n",
    "result_df = pd.DataFrame(results_list, columns=[\"PMCID\", \"Sentence\", \"NER_Tags\"])\n",
    "result_df = result_df.explode(\"NER_Tags\").drop_duplicates()\n",
    "\n",
    "# p = Path(__file__).resolve().parents[2]\n",
    "# print(p)\n",
    "print(\"/home/tess/biohackathon2024/generate_data/ner_tag_final.csv\")\n",
    "result_df.to_csv(\"/home/tess/biohackathon2024/generate_data/ner_tag_final.csv\", index=False)\n",
    "\n"
   ]
  },
  {
   "cell_type": "code",
   "execution_count": null,
   "metadata": {},
   "outputs": [],
   "source": []
  },
  {
   "cell_type": "code",
   "execution_count": null,
   "metadata": {},
   "outputs": [],
   "source": []
  },
  {
   "cell_type": "code",
   "execution_count": null,
   "metadata": {},
   "outputs": [],
   "source": []
  }
 ],
 "metadata": {
  "kernelspec": {
   "display_name": "bh24-literature-mining-3mhmtudb-py3.12",
   "language": "python",
   "name": "python3"
  },
  "language_info": {
   "codemirror_mode": {
    "name": "ipython",
    "version": 3
   },
   "file_extension": ".py",
   "mimetype": "text/x-python",
   "name": "python",
   "nbconvert_exporter": "python",
   "pygments_lexer": "ipython3",
   "version": "3.12.7"
  }
 },
 "nbformat": 4,
 "nbformat_minor": 4
}
