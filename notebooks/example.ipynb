{
 "cells": [
  {
   "cell_type": "markdown",
   "metadata": {},
   "source": [
    "# Example notebook\n",
    "\n",
    "Here we get the Article classes for all given bio.tools tools."
   ]
  },
  {
   "cell_type": "code",
   "execution_count": null,
   "metadata": {},
   "outputs": [],
   "source": []
  },
  {
   "cell_type": "code",
   "execution_count": 1,
   "metadata": {},
   "outputs": [],
   "source": [
    "%load_ext autoreload\n",
    "%autoreload 2"
   ]
  },
  {
   "cell_type": "code",
   "execution_count": 4,
   "metadata": {},
   "outputs": [
    {
     "name": "stdout",
     "output_type": "stream",
     "text": [
      "Name: SubtiWiki, PubMed ID: 8728116, Link: fulltexts/PMC8728116.xml\n",
      "Name: MetaPathways, PubMed ID: 4595896, Link: fulltexts/PMC4595896.xml\n",
      "Name: iPHoP, PubMed ID: 10155999, Link: fulltexts/PMC10155999.xml\n",
      "Name: MetaPathways, PubMed ID: 3695837, Link: fulltexts/PMC3695837.xml\n",
      "Name: MZmine, PubMed ID: 1187873, Link: fulltexts/PMC1187873.xml\n"
     ]
    }
   ],
   "source": [
    "from bh24_literature_mining.utils import load_biotools_pub\n",
    "\n",
    "tools = load_biotools_pub(\"../biotoolspub/biotoolspub.tsv\")\n",
    "\n",
    "for index, row in tools.head().iterrows():\n",
    "    name = row[\"name\"]\n",
    "    pubmedid = row[\"pubmedid\"]\n",
    "    # remove PMC prefix\n",
    "    pubmedid = pubmedid[3:]\n",
    "    link = row[\"link\"]\n",
    "    print(f\"Name: {name}, PubMed ID: {pubmedid}, Link: {link}\")"
   ]
  },
  {
   "cell_type": "code",
   "execution_count": 5,
   "metadata": {},
   "outputs": [
    {
     "name": "stdout",
     "output_type": "stream",
     "text": [
      "The first title is: Reinvestigating the Correctness of Decoy-Based False Discovery Rate Control in Proteomics Tandem Mass Spectrometry.\n",
      "Type of the first article: journal article\n",
      "The count of the cites articles (within the first 3 pages): 100\n"
     ]
    }
   ],
   "source": [
    "from bh24_literature_mining.europepmc_api import EuropePMCClient \n",
    "\n",
    "\n",
    "client = EuropePMCClient()\n",
    "# Call bio.tools query and get a list of Article objects\n",
    "biotools_articles = client.search_mentions(\"PeptideProphet\")\n",
    "\n",
    "first_article = biotools_articles[0]\n",
    "print(\"The first title is:\", first_article.title)\n",
    "print(\"Type of the first article:\", first_article.pubType)\n",
    "\n",
    "# Call cites query with a specific PubMed ID and get a list of Article objects\n",
    "cites_articles = client.search_cites(\"32109013\")\n",
    "print(\"The count of the cites articles (within the first 3 pages):\", len(cites_articles))"
   ]
  },
  {
   "cell_type": "code",
   "execution_count": null,
   "metadata": {},
   "outputs": [],
   "source": []
  }
 ],
 "metadata": {
  "kernelspec": {
   "display_name": "bh24-literature-mining-3K9Ouga5-py3.12",
   "language": "python",
   "name": "python3"
  },
  "language_info": {
   "codemirror_mode": {
    "name": "ipython",
    "version": 3
   },
   "file_extension": ".py",
   "mimetype": "text/x-python",
   "name": "python",
   "nbconvert_exporter": "python",
   "pygments_lexer": "ipython3",
   "version": "3.12.3"
  }
 },
 "nbformat": 4,
 "nbformat_minor": 4
}
