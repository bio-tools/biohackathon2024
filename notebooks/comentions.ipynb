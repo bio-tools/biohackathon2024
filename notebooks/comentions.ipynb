{
 "cells": [
  {
   "cell_type": "markdown",
   "metadata": {},
   "source": [
    "# Co-mentioning  \n",
    "\n",
    "* Remove preprints from articles\n",
    "* Create co-mentioning matrix\n",
    "* Check if (mentions) articles are about a tool in bio.tools \n",
    "\n",
    "\n",
    "Mentions file should contain a list where each element has (tool name, pmid and list of articles mentioning the tool)"
   ]
  },
  {
   "cell_type": "code",
   "execution_count": null,
   "metadata": {},
   "outputs": [],
   "source": [
    "import json\n",
    "\n",
    "path = 'path/to/mentions/file.json' # REPLACE wiith the path to the mentions file\n",
    "\n",
    "with open(path) as f:\n",
    "    tools = json.load(f)\n",
    "\n",
    "print(f'Loaded {len(tools)} tools.')"
   ]
  },
  {
   "cell_type": "markdown",
   "metadata": {},
   "source": [
    "### Remove preprints from articles in every tool\n",
    "\n",
    "For published articles there can also be preprints included since DOI and other IDs are different from the final publication to the preprint."
   ]
  },
  {
   "cell_type": "code",
   "execution_count": null,
   "metadata": {},
   "outputs": [],
   "source": [
    "for tool in tools:\n",
    "    tool['articles'] = [article for article in tool['articles'] if article['pubType'] != 'preprint']\n",
    "\n",
    "print(f'Filtered out preprints. Now {len(tools)} tools.')"
   ]
  },
  {
   "cell_type": "markdown",
   "metadata": {},
   "source": [
    "### Collect unique article IDs"
   ]
  },
  {
   "cell_type": "code",
   "execution_count": null,
   "metadata": {},
   "outputs": [],
   "source": [
    "publication_ids = list({article['id'] for tool in tools for article in tool['articles']})\n",
    "\n",
    "print(f'Found {len(publication_ids)} unique publication IDs.')"
   ]
  },
  {
   "cell_type": "markdown",
   "metadata": {},
   "source": [
    "### Create binary matrix for tools vs. articles"
   ]
  },
  {
   "cell_type": "code",
   "execution_count": null,
   "metadata": {},
   "outputs": [],
   "source": [
    "import pandas as pd\n",
    "\n",
    "matrix = [[1 if article_id in [article['id'] for article in tool['articles']] else 0 for article_id in publication_ids] for tool in tools]\n",
    "\n",
    "comentions_df = pd.DataFrame(matrix, columns=publication_ids)\n",
    "\n",
    "# Set rownames to tool names\n",
    "comentions_df.index = [tool['name'] for tool in tools]"
   ]
  },
  {
   "cell_type": "markdown",
   "metadata": {},
   "source": [
    "Remove duplicated tools"
   ]
  },
  {
   "cell_type": "code",
   "execution_count": null,
   "metadata": {},
   "outputs": [],
   "source": [
    "duplicated_indices = comentions_df.index[comentions_df.index.duplicated(keep=False)]\n",
    "\n",
    "duplicated_rows = comentions_df.loc[duplicated_indices]\n",
    "\n",
    "unique_rows = duplicated_rows.groupby(level=0).filter(lambda x: x.nunique().eq(1).all())\n",
    "\n",
    "# Remove exact duplicates by dropping all but the first instance\n",
    "comentions_matrix = pd.concat([comentions_df.drop(index=unique_rows.index), unique_rows.groupby(level=0).first()])\n",
    "\n",
    "print(\"Deduplicated DataFrame:\")\n",
    "print(comentions_matrix.head())\n"
   ]
  },
  {
   "cell_type": "markdown",
   "metadata": {},
   "source": [
    "### Check if articles are about a tool in bio.tools"
   ]
  },
  {
   "cell_type": "code",
   "execution_count": null,
   "metadata": {},
   "outputs": [],
   "source": [
    "# Load bio.tools data\n",
    "\n",
    "biotoolspath = 'path/to/biotools.json' # REPLACE\n",
    "\n",
    "with open(biotoolspath) as f:\n",
    "    biotools = json.load(f)\n",
    "\n",
    "\n",
    "publication_ids_in_biotools = [\n",
    "    (id, tool['biotoolsID']) \n",
    "    for id in publication_ids \n",
    "    for tool in biotools \n",
    "    if id in [article.get('pmid') or article.get('pmcid') for article in tool.get('publication', [])]\n",
    "]\n",
    "\n",
    "print(f'Matched {len(publication_ids_in_biotools)} publication IDs with a bio.tools tool.')"
   ]
  }
 ],
 "metadata": {
  "kernelspec": {
   "display_name": "Python 3",
   "language": "python",
   "name": "python3"
  },
  "language_info": {
   "name": "python",
   "version": "3.11.9"
  }
 },
 "nbformat": 4,
 "nbformat_minor": 2
}
