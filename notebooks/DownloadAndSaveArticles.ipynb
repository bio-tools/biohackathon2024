{
 "cells": [
  {
   "cell_type": "markdown",
   "metadata": {},
   "source": [
    "# Download and visualize tool mentions and citations\n",
    "\n",
    "This is a notebook that downloads information about mentioned and cited tools from a large list (bio.tools)"
   ]
  },
  {
   "cell_type": "code",
   "execution_count": 14,
   "metadata": {},
   "outputs": [
    {
     "name": "stdout",
     "output_type": "stream",
     "text": [
      "The autoreload extension is already loaded. To reload it, use:\n",
      "  %reload_ext autoreload\n"
     ]
    }
   ],
   "source": [
    "%load_ext autoreload\n",
    "%autoreload 2"
   ]
  },
  {
   "cell_type": "markdown",
   "metadata": {},
   "source": [
    "### Initialization\n",
    "\n",
    "Get bio.tools publications from file and start the class"
   ]
  },
  {
   "cell_type": "code",
   "execution_count": 15,
   "metadata": {},
   "outputs": [],
   "source": [
    "from bh24_literature_mining.utils import *\n",
    "from bh24_literature_mining.europepmc_api import EuropePMCClient\n",
    "import math\n",
    "\n",
    "client = EuropePMCClient()\n",
    "\n",
    "tools = load_biotools_pub(\"../biotoolspub/biotoolspub_with_pmids8.tsv\")\n",
    "\n"
   ]
  },
  {
   "cell_type": "markdown",
   "metadata": {},
   "source": [
    "### Add EDAM topics\n",
    "Add EDAM topics to DataFrame \"tools\""
   ]
  },
  {
   "cell_type": "code",
   "execution_count": 16,
   "metadata": {},
   "outputs": [],
   "source": [
    "# Now include EDAM topics for each tool\n",
    "biotools = load_biotools_from_zip(\n",
    "    \"../biotoolspub/biotoolsdump.zip\", \"biotools.json\"\n",
    ")\n",
    "\n",
    "# get all biotoolsIDs from biotools list\n",
    "biotools_ids = [tool[\"biotoolsID\"] for tool in biotools]\n",
    "\n",
    "# for each tool, get the EDAM topics and add as new column to \"tools\"\n",
    "for index, row in tools.iterrows():\n",
    "    biotoolsID = row[\"biotoolsID\"]\n",
    "    # get index of biotoolsID in biotools_ids\n",
    "    try:\n",
    "        bio_index = biotools_ids.index(biotoolsID)\n",
    "    except ValueError:\n",
    "        continue\n",
    "    # get EDAM topics for tool\n",
    "    edam_topics = biotools[bio_index][\"topic\"]\n",
    "    # Get term elements for each edam_topic\n",
    "    edam_topics = [edam_topic[\"term\"] for edam_topic in edam_topics]\n",
    "    # add EDAM topics to tools dataframe\n",
    "    tools.at[index, \"EDAM_topics\"] = \", \".join(edam_topics)"
   ]
  },
  {
   "cell_type": "markdown",
   "metadata": {},
   "source": [
    "### Read data from json file\n",
    "In case you already ran the extraction, load the files and skip the querying of Europe PMC below"
   ]
  },
  {
   "cell_type": "code",
   "execution_count": 19,
   "metadata": {},
   "outputs": [],
   "source": [
    "biotools_cites = read_cites_from_json(\"../var/biotools_cites.json\")\n",
    "biotools_mentions = read_mentions_from_json(\"../var/biotools_mentions.json\")"
   ]
  },
  {
   "cell_type": "markdown",
   "metadata": {},
   "source": [
    "### Run queries to Europe PMC "
   ]
  },
  {
   "cell_type": "code",
   "execution_count": 111,
   "metadata": {},
   "outputs": [
    {
     "name": "stdout",
     "output_type": "stream",
     "text": [
      "Total number of tools:  50\n",
      "Iter: 0, Name: Rtpca, PubMed ID: 32717044, Link: fulltexts/PMC8058776.xml\n",
      "Iter: 1, Name: VirusHunter, PubMed ID: nan, Link: fulltexts/PMC3805514.xml\n",
      "Iter: 2, Name: CancerOmicsNet, PubMed ID: 35601606, Link: fulltexts/PMC9119687.xml\n",
      "Iter: 3, Name: OmixLitMiner, PubMed ID: 32092871, Link: fulltexts/PMC7073124.xml\n",
      "Iter: 4, Name: VMCMC, PubMed ID: 28187712, Link: fulltexts/PMC5301390.xml\n",
      "Iter: 5, Name: pftools, PubMed ID: 23505298, Link: fulltexts/PMC3634184.xml\n",
      "Iter: 6, Name: FFPEcap-seq, PubMed ID: 31649055, Link: fulltexts/PMC6836741.xml\n",
      "Iter: 7, Name: AHTpin, PubMed ID: 26538599, Link: fulltexts/PMC4702812.xml\n",
      "Iter: 8, Name: EpiMethEx, PubMed ID: 30717649, Link: fulltexts/PMC7394332.xml\n",
      "Iter: 9, Name: GENAVi, PubMed ID: 31619158, Link: fulltexts/PMC6796420.xml\n",
      "Iter: 10, Name: Dali, PubMed ID: 20457744, Link: fulltexts/PMC2896194.xml\n",
      "Iter: 11, Name: LMdist, PubMed ID: 38060267, Link: fulltexts/PMC10713119.xml\n",
      "Iter: 12, Name: NGSReadsTreatment, PubMed ID: 31406180, Link: fulltexts/PMC6690869.xml\n",
      "Iter: 13, Name: PDB_Graph_API, PubMed ID: 34081107, Link: fulltexts/PMC8570819.xml\n",
      "Iter: 14, Name: ExaStoLog, PubMed ID: 32527218, Link: fulltexts/PMC7291460.xml\n",
      "Iter: 15, Name: COAC, PubMed ID: 30779739, Link: fulltexts/PMC6396937.xml\n",
      "Iter: 16, Name: GameRank, PubMed ID: 35951761, Link: fulltexts/PMC9563696.xml\n",
      "Iter: 17, Name: RmsiGUI, PubMed ID: 34179452, Link: fulltexts/PMC8205298.xml\n",
      "Iter: 18, Name: ChroMo, PubMed ID: 34440781, Link: fulltexts/PMC8392469.xml\n",
      "Iter: 19, Name: SAAMBE-3D, PubMed ID: 32272725, Link: fulltexts/PMC7177817.xml\n",
      "Iter: 20, Name: BHi-Cect, PubMed ID: 32009153, Link: fulltexts/PMC7049727.xml\n",
      "Iter: 21, Name: CARARIME, PubMed ID: 36466852, Link: fulltexts/PMC9714541.xml\n",
      "Iter: 22, Name: UnpairReg, PubMed ID: 35854350, Link: fulltexts/PMC9295346.xml\n",
      "Iter: 23, Name: MPDB 2.0, PubMed ID: 34362451, Link: fulltexts/PMC8344187.xml\n",
      "Iter: 24, Name: GeneRegionScan, PubMed ID: 19398447, Link: fulltexts/PMC2712334.xml\n",
      "Iter: 25, Name: gridSolvate, PubMed ID: 33119305, Link: fulltexts/PMC7768606.xml\n",
      "Iter: 26, Name: AIME, PubMed ID: 35081109, Link: fulltexts/PMC8820645.xml\n",
      "Iter: 27, Name: Risa, PubMed ID: 24564732, Link: fulltexts/PMC4015122.xml\n",
      "Iter: 28, Name: WebGestalt, PubMed ID: 15980575, Link: fulltexts/PMC1160236.xml\n",
      "Iter: 29, Name: IntaRNA - RNA-RNA interaction, PubMed ID: 24838564, Link: fulltexts/PMC4086077.xml\n",
      "Iter: 30, Name: NGlyAlign, PubMed ID: 33557755, Link: fulltexts/PMC7869453.xml\n",
      "Iter: 31, Name: Proteome-pI 2.0, PubMed ID: 34718696, Link: fulltexts/PMC8728302.xml\n",
      "Iter: 32, Name: PCMDB, PubMed ID: 34718712, Link: fulltexts/PMC8728192.xml\n",
      "Iter: 33, Name: psygenet2r, PubMed ID: 28961763, Link: fulltexts/PMC5860088.xml\n",
      "Iter: 34, Name: Destin2, PubMed ID: 36873935, Link: fulltexts/PMC9981783.xml\n",
      "Iter: 35, Name: LITT, PubMed ID: 34235130, Link: fulltexts/PMC8255782.xml\n",
      "Iter: 36, Name: MetaTiME, PubMed ID: 37149682, Link: fulltexts/PMC10164163.xml\n",
      "Iter: 37, Name: IntAssoPlot, PubMed ID: 32265990, Link: fulltexts/PMC7100855.xml\n",
      "Iter: 38, Name: GVViZ, PubMed ID: 34174938, Link: fulltexts/PMC8235866.xml\n",
      "Iter: 39, Name: CircPlant, PubMed ID: 33157302, Link: fulltexts/PMC7801249.xml\n",
      "Iter: 40, Name: Atropos, PubMed ID: 28875074, Link: fulltexts/PMC5581536.xml\n",
      "Iter: 41, Name: iDNA-ABF, PubMed ID: 36253864, Link: fulltexts/PMC9575223.xml\n",
      "Iter: 42, Name: HerbKG, PubMed ID: 35571049, Link: fulltexts/PMC9091197.xml\n",
      "Iter: 43, Name: IPD, PubMed ID: 33985433, Link: fulltexts/PMC8118100.xml\n",
      "Iter: 44, Name: Polypolish, PubMed ID: 35073327, Link: fulltexts/PMC8812927.xml\n",
      "Iter: 45, Name: 3D PHOVIS, PubMed ID: 32211292, Link: fulltexts/PMC7082691.xml\n",
      "Iter: 46, Name: Spaco, PubMed ID: 38487801, Link: fulltexts/PMC10935509.xml\n",
      "Iter: 47, Name: MarkerScan, PubMed ID: 38617467, Link: fulltexts/PMC11016177.xml\n",
      "Iter: 48, Name: VisioProt-MS, PubMed ID: 31452600, Link: fulltexts/PMC6698994.xml\n",
      "Iter: 49, Name: GSPA, PubMed ID: 36394254, Link: fulltexts/PMC9805577.xml\n",
      "Total number of tools:  50\n",
      "Iter: 0, Name: Rtpca, PubMed ID: 32717044, Link: fulltexts/PMC8058776.xml\n",
      "Iter: 1, Name: VirusHunter, PubMed ID: nan, Link: fulltexts/PMC3805514.xml\n",
      "Iter: 2, Name: CancerOmicsNet, PubMed ID: 35601606, Link: fulltexts/PMC9119687.xml\n",
      "Iter: 3, Name: OmixLitMiner, PubMed ID: 32092871, Link: fulltexts/PMC7073124.xml\n",
      "Iter: 4, Name: VMCMC, PubMed ID: 28187712, Link: fulltexts/PMC5301390.xml\n",
      "Iter: 5, Name: pftools, PubMed ID: 23505298, Link: fulltexts/PMC3634184.xml\n",
      "Iter: 6, Name: FFPEcap-seq, PubMed ID: 31649055, Link: fulltexts/PMC6836741.xml\n",
      "Iter: 7, Name: AHTpin, PubMed ID: 26538599, Link: fulltexts/PMC4702812.xml\n",
      "Iter: 8, Name: EpiMethEx, PubMed ID: 30717649, Link: fulltexts/PMC7394332.xml\n",
      "Iter: 9, Name: GENAVi, PubMed ID: 31619158, Link: fulltexts/PMC6796420.xml\n",
      "Iter: 10, Name: Dali, PubMed ID: 20457744, Link: fulltexts/PMC2896194.xml\n",
      "Iter: 11, Name: LMdist, PubMed ID: 38060267, Link: fulltexts/PMC10713119.xml\n",
      "Iter: 12, Name: NGSReadsTreatment, PubMed ID: 31406180, Link: fulltexts/PMC6690869.xml\n",
      "Iter: 13, Name: PDB_Graph_API, PubMed ID: 34081107, Link: fulltexts/PMC8570819.xml\n",
      "Iter: 14, Name: ExaStoLog, PubMed ID: 32527218, Link: fulltexts/PMC7291460.xml\n",
      "Iter: 15, Name: COAC, PubMed ID: 30779739, Link: fulltexts/PMC6396937.xml\n",
      "Iter: 16, Name: GameRank, PubMed ID: 35951761, Link: fulltexts/PMC9563696.xml\n",
      "Iter: 17, Name: RmsiGUI, PubMed ID: 34179452, Link: fulltexts/PMC8205298.xml\n",
      "Iter: 18, Name: ChroMo, PubMed ID: 34440781, Link: fulltexts/PMC8392469.xml\n",
      "Iter: 19, Name: SAAMBE-3D, PubMed ID: 32272725, Link: fulltexts/PMC7177817.xml\n",
      "Iter: 20, Name: BHi-Cect, PubMed ID: 32009153, Link: fulltexts/PMC7049727.xml\n",
      "Iter: 21, Name: CARARIME, PubMed ID: 36466852, Link: fulltexts/PMC9714541.xml\n",
      "Iter: 22, Name: UnpairReg, PubMed ID: 35854350, Link: fulltexts/PMC9295346.xml\n",
      "Iter: 23, Name: MPDB 2.0, PubMed ID: 34362451, Link: fulltexts/PMC8344187.xml\n",
      "Iter: 24, Name: GeneRegionScan, PubMed ID: 19398447, Link: fulltexts/PMC2712334.xml\n",
      "Iter: 25, Name: gridSolvate, PubMed ID: 33119305, Link: fulltexts/PMC7768606.xml\n",
      "Iter: 26, Name: AIME, PubMed ID: 35081109, Link: fulltexts/PMC8820645.xml\n",
      "Iter: 27, Name: Risa, PubMed ID: 24564732, Link: fulltexts/PMC4015122.xml\n",
      "Iter: 28, Name: WebGestalt, PubMed ID: 15980575, Link: fulltexts/PMC1160236.xml\n",
      "Iter: 29, Name: IntaRNA - RNA-RNA interaction, PubMed ID: 24838564, Link: fulltexts/PMC4086077.xml\n",
      "Iter: 30, Name: NGlyAlign, PubMed ID: 33557755, Link: fulltexts/PMC7869453.xml\n",
      "Iter: 31, Name: Proteome-pI 2.0, PubMed ID: 34718696, Link: fulltexts/PMC8728302.xml\n",
      "Iter: 32, Name: PCMDB, PubMed ID: 34718712, Link: fulltexts/PMC8728192.xml\n",
      "Iter: 33, Name: psygenet2r, PubMed ID: 28961763, Link: fulltexts/PMC5860088.xml\n",
      "Iter: 34, Name: Destin2, PubMed ID: 36873935, Link: fulltexts/PMC9981783.xml\n",
      "Iter: 35, Name: LITT, PubMed ID: 34235130, Link: fulltexts/PMC8255782.xml\n",
      "Iter: 36, Name: MetaTiME, PubMed ID: 37149682, Link: fulltexts/PMC10164163.xml\n",
      "Iter: 37, Name: IntAssoPlot, PubMed ID: 32265990, Link: fulltexts/PMC7100855.xml\n",
      "Iter: 38, Name: GVViZ, PubMed ID: 34174938, Link: fulltexts/PMC8235866.xml\n",
      "Iter: 39, Name: CircPlant, PubMed ID: 33157302, Link: fulltexts/PMC7801249.xml\n",
      "Iter: 40, Name: Atropos, PubMed ID: 28875074, Link: fulltexts/PMC5581536.xml\n",
      "Iter: 41, Name: iDNA-ABF, PubMed ID: 36253864, Link: fulltexts/PMC9575223.xml\n",
      "Iter: 42, Name: HerbKG, PubMed ID: 35571049, Link: fulltexts/PMC9091197.xml\n",
      "Iter: 43, Name: IPD, PubMed ID: 33985433, Link: fulltexts/PMC8118100.xml\n",
      "Iter: 44, Name: Polypolish, PubMed ID: 35073327, Link: fulltexts/PMC8812927.xml\n",
      "Iter: 45, Name: 3D PHOVIS, PubMed ID: 32211292, Link: fulltexts/PMC7082691.xml\n",
      "Iter: 46, Name: Spaco, PubMed ID: 38487801, Link: fulltexts/PMC10935509.xml\n",
      "Iter: 47, Name: MarkerScan, PubMed ID: 38617467, Link: fulltexts/PMC11016177.xml\n",
      "Iter: 48, Name: VisioProt-MS, PubMed ID: 31452600, Link: fulltexts/PMC6698994.xml\n",
      "Iter: 49, Name: GSPA, PubMed ID: 36394254, Link: fulltexts/PMC9805577.xml\n"
     ]
    }
   ],
   "source": [
    "tools_small = tools.sample(frac=1).reset_index(drop=True)\n",
    "tools_small = tools_small[:50]\n",
    "biotools_mentions = client.get_mentions_for_tools(tools_small, True)\n",
    "biotools_cites = client.get_cites_for_tools(tools_small)"
   ]
  },
  {
   "cell_type": "markdown",
   "metadata": {},
   "source": [
    "### Visualize results"
   ]
  },
  {
   "cell_type": "code",
   "execution_count": 18,
   "metadata": {},
   "outputs": [
    {
     "ename": "NameError",
     "evalue": "name 'biotools_mentions' is not defined",
     "output_type": "error",
     "traceback": [
      "\u001b[0;31m---------------------------------------------------------------------------\u001b[0m",
      "\u001b[0;31mNameError\u001b[0m                                 Traceback (most recent call last)",
      "Cell \u001b[0;32mIn[18], line 3\u001b[0m\n\u001b[1;32m      1\u001b[0m \u001b[38;5;28;01mfrom\u001b[39;00m \u001b[38;5;21;01mbh24_literature_mining\u001b[39;00m\u001b[38;5;21;01m.\u001b[39;00m\u001b[38;5;21;01mvisualizations\u001b[39;00m \u001b[38;5;28;01mimport\u001b[39;00m plot_histogram, compare_mentions_cites, wordcloud_most_mentioned\n\u001b[0;32m----> 3\u001b[0m plot_histogram(\u001b[43mbiotools_mentions\u001b[49m, \u001b[38;5;124m\"\u001b[39m\u001b[38;5;124mmentions\u001b[39m\u001b[38;5;124m\"\u001b[39m)\n\u001b[1;32m      4\u001b[0m plot_histogram(biotools_cites, \u001b[38;5;124m\"\u001b[39m\u001b[38;5;124mcites\u001b[39m\u001b[38;5;124m\"\u001b[39m)\n\u001b[1;32m      6\u001b[0m compare_mentions_cites(biotools_mentions, biotools_cites)\n",
      "\u001b[0;31mNameError\u001b[0m: name 'biotools_mentions' is not defined"
     ]
    }
   ],
   "source": [
    "from bh24_literature_mining.visualizations import plot_histogram, compare_mentions_cites, wordcloud_most_mentioned\n",
    "\n",
    "plot_histogram(biotools_mentions, \"mentions\")\n",
    "plot_histogram(biotools_cites, \"cites\")\n",
    "\n",
    "compare_mentions_cites(biotools_mentions, biotools_cites)\n",
    "\n",
    "wordcloud_most_mentioned(biotools_mentions, 1000)"
   ]
  },
  {
   "cell_type": "markdown",
   "metadata": {},
   "source": [
    "### Save results"
   ]
  },
  {
   "cell_type": "code",
   "execution_count": 124,
   "metadata": {},
   "outputs": [],
   "source": [
    "# save as json file\n",
    "save_to_json(biotools_cites, \"../var/biotools_cites.json\")\n",
    "save_to_json(biotools_mentions, \"../var/biotools_mentions.json\")"
   ]
  },
  {
   "cell_type": "code",
   "execution_count": 62,
   "metadata": {},
   "outputs": [
    {
     "data": {
      "text/plain": [
       "'Functional, regulatory and non-coding RNA'"
      ]
     },
     "execution_count": 62,
     "metadata": {},
     "output_type": "execute_result"
    }
   ],
   "source": [
    "# get structure of biotools list item 0\n",
    "biotools["
   ]
  },
  {
   "cell_type": "code",
   "execution_count": 137,
   "metadata": {},
   "outputs": [
    {
     "ename": "NameError",
     "evalue": "name 'read_cites_from_json' is not defined",
     "output_type": "error",
     "traceback": [
      "\u001b[0;31m---------------------------------------------------------------------------\u001b[0m",
      "\u001b[0;31mNameError\u001b[0m                                 Traceback (most recent call last)",
      "Cell \u001b[0;32mIn[137], line 1\u001b[0m\n\u001b[0;32m----> 1\u001b[0m \u001b[43mread_cites_from_json\u001b[49m(\u001b[38;5;124m\"\u001b[39m\u001b[38;5;124m../var/biotools_cites.json\u001b[39m\u001b[38;5;124m\"\u001b[39m)\n",
      "\u001b[0;31mNameError\u001b[0m: name 'read_cites_from_json' is not defined"
     ]
    }
   ],
   "source": [
    "read_cites_from_json(\"../var/biotools_cites.json\")"
   ]
  },
  {
   "cell_type": "code",
   "execution_count": 86,
   "metadata": {},
   "outputs": [
    {
     "data": {
      "text/plain": [
       "True"
      ]
     },
     "execution_count": 86,
     "metadata": {},
     "output_type": "execute_result"
    }
   ],
   "source": [
    "a = tools[\"EDAM_topics\"][1]\n",
    "a == \"\""
   ]
  },
  {
   "cell_type": "code",
   "execution_count": null,
   "metadata": {},
   "outputs": [],
   "source": []
  }
 ],
 "metadata": {
  "kernelspec": {
   "display_name": "bh24-literature-mining-3K9Ouga5-py3.12",
   "language": "python",
   "name": "python3"
  },
  "language_info": {
   "codemirror_mode": {
    "name": "ipython",
    "version": 3
   },
   "file_extension": ".py",
   "mimetype": "text/x-python",
   "name": "python",
   "nbconvert_exporter": "python",
   "pygments_lexer": "ipython3",
   "version": "3.12.3"
  }
 },
 "nbformat": 4,
 "nbformat_minor": 4
}
