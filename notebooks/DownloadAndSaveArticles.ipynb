{
 "cells": [
  {
   "cell_type": "markdown",
   "metadata": {},
   "source": [
    "# Example notebook\n",
    "\n",
    "This is an example notebook that demonstrates how to use the bh24-literature-mining package to extract information from the literature."
   ]
  },
  {
   "cell_type": "code",
   "execution_count": 3,
   "metadata": {},
   "outputs": [
    {
     "name": "stdout",
     "output_type": "stream",
     "text": [
      "The autoreload extension is already loaded. To reload it, use:\n",
      "  %reload_ext autoreload\n"
     ]
    }
   ],
   "source": [
    "%load_ext autoreload\n",
    "%autoreload 2"
   ]
  },
  {
   "cell_type": "code",
   "execution_count": 5,
   "metadata": {},
   "outputs": [
    {
     "name": "stdout",
     "output_type": "stream",
     "text": [
      "Name: SubtiWiki, PubMed ID: PMC8728116, Link: fulltexts/PMC8728116.xml\n",
      "Name: MetaPathways, PubMed ID: PMC4595896, Link: fulltexts/PMC4595896.xml\n",
      "Name: iPHoP, PubMed ID: PMC10155999, Link: fulltexts/PMC10155999.xml\n",
      "Name: MetaPathways, PubMed ID: PMC3695837, Link: fulltexts/PMC3695837.xml\n",
      "Name: MZmine, PubMed ID: PMC1187873, Link: fulltexts/PMC1187873.xml\n"
     ]
    }
   ],
   "source": [
    "from bh24_literature_mining.utils import load_biotools_pub\n",
    "\n",
    "tools = load_biotools_pub(\"../biotoolspub/biotoolspub.tsv\")\n",
    "\n",
    "for index, row in tools.head().iterrows():\n",
    "    name = row[\"name\"]\n",
    "    pubmedid = row[\"pubmedid\"]\n",
    "    link = row[\"link\"]\n",
    "    print(f\"Name: {name}, PubMed ID: {pubmedid}, Link: {link}\")"
   ]
  }
 ],
 "metadata": {
  "kernelspec": {
   "display_name": "biohackathon-2024",
   "language": "python",
   "name": "biohackathon-2024"
  },
  "language_info": {
   "codemirror_mode": {
    "name": "ipython",
    "version": 3
   },
   "file_extension": ".py",
   "mimetype": "text/x-python",
   "name": "python",
   "nbconvert_exporter": "python",
   "pygments_lexer": "ipython3",
   "version": "3.11.2"
  }
 },
 "nbformat": 4,
 "nbformat_minor": 2
}
