{
 "cells": [
  {
   "cell_type": "markdown",
   "metadata": {},
   "source": [
    "# Bio.tools | Update Publication Information using EuropePMC\n",
    "\n",
    "This is a notebook for completing missing publication information in bio.tools using EuropePMC.\n",
    "It also includes:\n",
    "\n",
    "* saving open access publication information with corresponding tool name and biotoolsID;\n",
    "* creating subsets of different topics and saving to json.\n",
    "\n",
    "Up-to-date biotools dumps can be found in this repo under biotoolspub/biotoolsdump.zip\n"
   ]
  },
  {
   "cell_type": "markdown",
   "metadata": {},
   "source": [
    "### Load bio.tools tools information"
   ]
  },
  {
   "cell_type": "code",
   "execution_count": null,
   "metadata": {},
   "outputs": [],
   "source": [
    "from bh24_literature_mining.utils import load_biotools_from_zip, save_to_json\n",
    "from europe_pmc import EuropePMC"
   ]
  },
  {
   "cell_type": "markdown",
   "metadata": {},
   "source": [
    "### Get missing information from EuropePMC and save open access publications\n",
    "\n",
    "Takes ~4 hours to finish. (Dumps in biotoolspub/biotoolsdump.zip are already up-to-date)"
   ]
  },
  {
   "cell_type": "code",
   "execution_count": null,
   "metadata": {},
   "outputs": [],
   "source": [
    "tools = load_biotools_from_zip(\"../data/biotools/biotoolsdump.zip\", \"biotools.json\")"
   ]
  },
  {
   "cell_type": "code",
   "execution_count": null,
   "metadata": {},
   "outputs": [],
   "source": [
    "open_access_publications = []\n",
    "\n",
    "pmc_client = EuropePMC()\n",
    "\n",
    "for tool in tools:\n",
    "\n",
    "    publication = tool[\"publication\"]\n",
    "    pmc_publications = []\n",
    "\n",
    "    for pub in publication:\n",
    "        pub_id = pub.get(\"doi\", \"pmid\")\n",
    "\n",
    "        if pub_id:\n",
    "            response = pmc_client.fetch(pub_id)\n",
    "\n",
    "            if response.data:\n",
    "                biotools_publication = {\n",
    "                    key: pub.get(key) for key in [\"doi\", \"pmid\", \"pmcid\"]\n",
    "                }\n",
    "\n",
    "                pmc_publication = {\n",
    "                    key: response.data.get(key) for key in [\"doi\", \"pmid\", \"pmcid\"]\n",
    "                }\n",
    "\n",
    "                # Select final publication to be added to tool\n",
    "                final_publication = (\n",
    "                    pmc_publication\n",
    "                    if biotools_publication != pmc_publication\n",
    "                    else biotools_publication\n",
    "                )\n",
    "\n",
    "                # Add 'type' field to publication from pub\n",
    "                final_publication[\"type\"] = pub.get(\"type\")\n",
    "\n",
    "                pmc_publications.append(final_publication)\n",
    "\n",
    "                if response.data.get(\"isOpenAccess\") == \"Y\":\n",
    "                    open_access_publications.append(\n",
    "                        [tool[\"biotoolsID\"], tool[\"name\"], final_publication]\n",
    "                    )\n",
    "\n",
    "    tool[\"publication\"] = pmc_publication\n",
    "\n",
    "\n",
    "save_to_json(tools, \"biotools.json\")\n",
    "save_to_json(open_access_publications, \"open_access_publications.json\")"
   ]
  },
  {
   "cell_type": "markdown",
   "metadata": {},
   "source": [
    "### Create subsets of tools by topic (Proteomics, Metabolomics and RNA-Seq)\n",
    "\n",
    "Filter tools and save to json files."
   ]
  },
  {
   "cell_type": "code",
   "execution_count": null,
   "metadata": {},
   "outputs": [],
   "source": [
    "def filter_tools_by_topic(tools, topic_name):\n",
    "\n",
    "    tools_subset = [\n",
    "        tool\n",
    "        for tool in tools\n",
    "        if any(topic[\"term\"] == topic_name for topic in tool[\"topic\"])\n",
    "    ]\n",
    "\n",
    "    file_name = topic_name.lower() + \"_tools.json\"\n",
    "    save_to_json(tools_subset, file_name)\n",
    "\n",
    "    return tools_subset"
   ]
  },
  {
   "cell_type": "code",
   "execution_count": null,
   "metadata": {},
   "outputs": [],
   "source": [
    "filter_tools_by_topic(tools, \"Proteomics\")\n",
    "filter_tools_by_topic(tools, \"Metabolomics\")\n",
    "filter_tools_by_topic(tools, \"RNA-Seq\")"
   ]
  }
 ],
 "metadata": {
  "kernelspec": {
   "display_name": "MATseq",
   "language": "python",
   "name": "python3"
  },
  "language_info": {
   "codemirror_mode": {
    "name": "ipython",
    "version": 3
   },
   "file_extension": ".py",
   "mimetype": "text/x-python",
   "name": "python",
   "nbconvert_exporter": "python",
   "pygments_lexer": "ipython3",
   "version": "3.10.14"
  }
 },
 "nbformat": 4,
 "nbformat_minor": 4
}
