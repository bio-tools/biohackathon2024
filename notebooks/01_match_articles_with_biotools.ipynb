{
 "cells": [
  {
   "cell_type": "code",
   "execution_count": null,
   "metadata": {},
   "outputs": [],
   "source": [
    "import json\n",
    "import pandas as pd\n",
    "\n",
    "from bh24_literature_mining.utils import load_biotools_from_zip\n",
    "from bh24_literature_mining.europepmc_api import Article"
   ]
  },
  {
   "cell_type": "markdown",
   "metadata": {},
   "source": [
    "Load co-citations data "
   ]
  },
  {
   "cell_type": "code",
   "execution_count": null,
   "metadata": {},
   "outputs": [
    {
     "name": "stdout",
     "output_type": "stream",
     "text": [
      "Loaded 9453 tools.\n"
     ]
    }
   ],
   "source": [
    "tools_cites = Article.read_cites_from_json(\"./biotools_cites.json\")\n",
    "\n",
    "print(f\"Loaded {len(tools_cites)} tools.\")"
   ]
  },
  {
   "cell_type": "markdown",
   "metadata": {},
   "source": [
    "Get all publications IDs"
   ]
  },
  {
   "cell_type": "code",
   "execution_count": null,
   "metadata": {},
   "outputs": [
    {
     "name": "stdout",
     "output_type": "stream",
     "text": [
      "Total number of articles: 366828\n"
     ]
    }
   ],
   "source": [
    "all_ids = []\n",
    "for tool in tools_cites:\n",
    "    for article in tool[\"articles\"]:\n",
    "        all_ids.append(article.id)\n",
    "\n",
    "all_repeated_ids = all_ids\n",
    "\n",
    "all_ids = list(set(all_ids))\n",
    "\n",
    "print(f\"Total number of articles: {len(all_ids)}\")"
   ]
  },
  {
   "cell_type": "markdown",
   "metadata": {},
   "source": [
    "Load biotools dump"
   ]
  },
  {
   "cell_type": "code",
   "execution_count": null,
   "metadata": {},
   "outputs": [
    {
     "name": "stdout",
     "output_type": "stream",
     "text": [
      "Loaded 30239 bio.tools entries\n"
     ]
    }
   ],
   "source": [
    "biotools = load_biotools_from_zip(\"./biotoolsdump.zip\", \"biotools.json\")\n",
    "\n",
    "print(f\"Loaded {len(biotools)} bio.tools entries\")"
   ]
  },
  {
   "cell_type": "markdown",
   "metadata": {},
   "source": [
    "Match articles in citations with bio.tools tools"
   ]
  },
  {
   "cell_type": "code",
   "execution_count": null,
   "metadata": {},
   "outputs": [
    {
     "name": "stdout",
     "output_type": "stream",
     "text": [
      "Matched 9544 publication IDs with a bio.tools entry\n"
     ]
    }
   ],
   "source": [
    "publication_to_tool = {}\n",
    "\n",
    "for tool in biotools:\n",
    "    for article in tool.get(\"publication\", []):\n",
    "        for pub_id in (article.get(\"pmid\"), article.get(\"pmcid\")):\n",
    "            if pub_id:\n",
    "                publication_to_tool[pub_id] = tool[\"biotoolsID\"]\n",
    "\n",
    "\n",
    "articles_biotoolsID = [publication_to_tool.get(key, \"\") for key in all_ids]\n",
    "\n",
    "total_matches = len([id for id in articles_biotoolsID if id != \"\"])\n",
    "\n",
    "print(f\"Matched {total_matches} publication IDs with a bio.tools entry\")"
   ]
  },
  {
   "cell_type": "markdown",
   "metadata": {},
   "source": [
    "Merge results with original co-citation data"
   ]
  },
  {
   "cell_type": "code",
   "execution_count": null,
   "metadata": {},
   "outputs": [],
   "source": [
    "id_to_biotools = {\n",
    "    article_id: biotools_id\n",
    "    for article_id, biotools_id in zip(all_ids, articles_biotoolsID)\n",
    "}\n",
    "\n",
    "for tool in tools_cites:\n",
    "    biotools_ids = [\n",
    "        id_to_biotools[article.id]\n",
    "        for article in tool[\"articles\"]\n",
    "        if article.id in id_to_biotools\n",
    "    ]\n",
    "    tool[\"biotools\"] = biotools_ids"
   ]
  }
 ],
 "metadata": {
  "kernelspec": {
   "display_name": "BioHackathon 2024",
   "language": "python",
   "name": "biohackathon-2024"
  },
  "language_info": {
   "codemirror_mode": {
    "name": "ipython",
    "version": 3
   },
   "file_extension": ".py",
   "mimetype": "text/x-python",
   "name": "python",
   "nbconvert_exporter": "python",
   "pygments_lexer": "ipython3",
   "version": "3.12.3"
  }
 },
 "nbformat": 4,
 "nbformat_minor": 2
}
