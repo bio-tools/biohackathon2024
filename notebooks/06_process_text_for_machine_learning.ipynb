{
 "cells": [
  {
   "cell_type": "code",
   "execution_count": 1,
   "id": "c1dafe59",
   "metadata": {},
   "outputs": [
    {
     "name": "stderr",
     "output_type": "stream",
     "text": [
      "[nltk_data] Downloading package punkt to /root/nltk_data...\n",
      "[nltk_data]   Package punkt is already up-to-date!\n"
     ]
    }
   ],
   "source": [
    "# !pip install scikit-learn\n",
    "import ast\n",
    "import pandas as pd\n",
    "import numpy as np\n",
    "from bh24_literature_mining.machine_learning_tools import (convert_to_IOB_format_from_df, \n",
    "                                                           check_integrity_of_files)\n",
    "from sklearn.model_selection import train_test_split\n",
    "from pathlib import Path"
   ]
  },
  {
   "cell_type": "code",
   "execution_count": 2,
   "id": "5ddf0483",
   "metadata": {},
   "outputs": [],
   "source": [
    "random_state = np.random.RandomState(np.random.seed(None))"
   ]
  },
  {
   "cell_type": "code",
   "execution_count": 3,
   "id": "acb2ad01",
   "metadata": {},
   "outputs": [],
   "source": [
    "# Load the data\n",
    "p = Path().cwd().parent\n",
    "path_sheet_mentions = p / \"data/annotated/250227mentions.csv\"\n",
    "path_sheet_mentions_extra = p / \"data/annotated/250227mentions_extra.csv\"\n",
    "\n",
    "# Read the sheet into a DataFrame\n",
    "sheet_mentions = pd.read_csv(path_sheet_mentions)\n",
    "sheet_mentions_extra = pd.read_csv(path_sheet_mentions_extra)\n",
    "df = pd.concat([sheet_mentions, sheet_mentions_extra], ignore_index=True)"
   ]
  },
  {
   "cell_type": "code",
   "execution_count": 4,
   "id": "7bdf868b",
   "metadata": {},
   "outputs": [
    {
     "name": "stdout",
     "output_type": "stream",
     "text": [
      "<class 'pandas.core.frame.DataFrame'>\n",
      "RangeIndex: 3417 entries, 0 to 3416\n",
      "Data columns (total 7 columns):\n",
      " #   Column    Non-Null Count  Dtype \n",
      "---  ------    --------------  ----- \n",
      " 0   PMCID     3417 non-null   object\n",
      " 1   Task for  2425 non-null   object\n",
      " 2   Sentence  3417 non-null   object\n",
      " 3   True?     3417 non-null   bool  \n",
      " 4   False?    3417 non-null   bool  \n",
      " 5   NER_Tags  3417 non-null   object\n",
      " 6   Topics    3314 non-null   object\n",
      "dtypes: bool(2), object(5)\n",
      "memory usage: 140.3+ KB\n"
     ]
    }
   ],
   "source": [
    "df.info()"
   ]
  },
  {
   "cell_type": "code",
   "execution_count": 5,
   "id": "1fc892c4",
   "metadata": {},
   "outputs": [
    {
     "data": {
      "text/html": [
       "<div>\n",
       "<style scoped>\n",
       "    .dataframe tbody tr th:only-of-type {\n",
       "        vertical-align: middle;\n",
       "    }\n",
       "\n",
       "    .dataframe tbody tr th {\n",
       "        vertical-align: top;\n",
       "    }\n",
       "\n",
       "    .dataframe thead th {\n",
       "        text-align: right;\n",
       "    }\n",
       "</style>\n",
       "<table border=\"1\" class=\"dataframe\">\n",
       "  <thead>\n",
       "    <tr style=\"text-align: right;\">\n",
       "      <th></th>\n",
       "      <th>PMCID</th>\n",
       "      <th>Task for</th>\n",
       "      <th>Sentence</th>\n",
       "      <th>True?</th>\n",
       "      <th>False?</th>\n",
       "      <th>NER_Tags</th>\n",
       "      <th>Topics</th>\n",
       "    </tr>\n",
       "  </thead>\n",
       "  <tbody>\n",
       "    <tr>\n",
       "      <th>0</th>\n",
       "      <td>PMC11286849</td>\n",
       "      <td>Ana</td>\n",
       "      <td>The identified proteins also included 52 (70%)...</td>\n",
       "      <td>True</td>\n",
       "      <td>False</td>\n",
       "      <td>(120, 129, 'SubtiWiki', 'subtiwiki')</td>\n",
       "      <td>Molecular interactions, pathways and networks,...</td>\n",
       "    </tr>\n",
       "    <tr>\n",
       "      <th>1</th>\n",
       "      <td>PMC11286849</td>\n",
       "      <td>Ana</td>\n",
       "      <td>The localization of 52 of these 445 proteins i...</td>\n",
       "      <td>True</td>\n",
       "      <td>False</td>\n",
       "      <td>(72, 81, 'SubtiWiki', 'subtiwiki')</td>\n",
       "      <td>Molecular interactions, pathways and networks,...</td>\n",
       "    </tr>\n",
       "    <tr>\n",
       "      <th>2</th>\n",
       "      <td>PMC11286849</td>\n",
       "      <td>Ana</td>\n",
       "      <td>The 445 identified proteins were searched agai...</td>\n",
       "      <td>True</td>\n",
       "      <td>False</td>\n",
       "      <td>(54, 63, 'SubtiWiki', 'subtiwiki')</td>\n",
       "      <td>Molecular interactions, pathways and networks,...</td>\n",
       "    </tr>\n",
       "    <tr>\n",
       "      <th>3</th>\n",
       "      <td>PMC11458576</td>\n",
       "      <td>Ana</td>\n",
       "      <td>Putative nucleases were identified by searchin...</td>\n",
       "      <td>True</td>\n",
       "      <td>False</td>\n",
       "      <td>(48, 57, 'SubtiWiki', 'subtiwiki')</td>\n",
       "      <td>Molecular interactions, pathways and networks,...</td>\n",
       "    </tr>\n",
       "    <tr>\n",
       "      <th>4</th>\n",
       "      <td>PMC11458576</td>\n",
       "      <td>Ana</td>\n",
       "      <td>Functional Enrichment Analysis (FEA) was perfo...</td>\n",
       "      <td>True</td>\n",
       "      <td>False</td>\n",
       "      <td>(57, 66, 'SubtiWiki', 'subtiwiki')</td>\n",
       "      <td>Molecular interactions, pathways and networks,...</td>\n",
       "    </tr>\n",
       "  </tbody>\n",
       "</table>\n",
       "</div>"
      ],
      "text/plain": [
       "         PMCID Task for                                           Sentence  \\\n",
       "0  PMC11286849      Ana  The identified proteins also included 52 (70%)...   \n",
       "1  PMC11286849      Ana  The localization of 52 of these 445 proteins i...   \n",
       "2  PMC11286849      Ana  The 445 identified proteins were searched agai...   \n",
       "3  PMC11458576      Ana  Putative nucleases were identified by searchin...   \n",
       "4  PMC11458576      Ana  Functional Enrichment Analysis (FEA) was perfo...   \n",
       "\n",
       "   True?  False?                              NER_Tags  \\\n",
       "0   True   False  (120, 129, 'SubtiWiki', 'subtiwiki')   \n",
       "1   True   False    (72, 81, 'SubtiWiki', 'subtiwiki')   \n",
       "2   True   False    (54, 63, 'SubtiWiki', 'subtiwiki')   \n",
       "3   True   False    (48, 57, 'SubtiWiki', 'subtiwiki')   \n",
       "4   True   False    (57, 66, 'SubtiWiki', 'subtiwiki')   \n",
       "\n",
       "                                              Topics  \n",
       "0  Molecular interactions, pathways and networks,...  \n",
       "1  Molecular interactions, pathways and networks,...  \n",
       "2  Molecular interactions, pathways and networks,...  \n",
       "3  Molecular interactions, pathways and networks,...  \n",
       "4  Molecular interactions, pathways and networks,...  "
      ]
     },
     "execution_count": 5,
     "metadata": {},
     "output_type": "execute_result"
    }
   ],
   "source": [
    "df.head(5)"
   ]
  },
  {
   "cell_type": "code",
   "execution_count": 6,
   "id": "010bee4e",
   "metadata": {},
   "outputs": [
    {
     "data": {
      "text/plain": [
       "3376"
      ]
     },
     "execution_count": 6,
     "metadata": {},
     "output_type": "execute_result"
    }
   ],
   "source": [
    "# Making sure we do not have both unchedecked True and False\n",
    "df.loc[df[\"False?\"] == True, \"NER_Tags\"] = None\n",
    "true_checked_df = df[(df[\"True?\"] == True) | (df[\"False?\"] == True)]\n",
    "\n",
    "len(true_checked_df)"
   ]
  },
  {
   "cell_type": "code",
   "execution_count": 7,
   "id": "2fa9c575",
   "metadata": {},
   "outputs": [
    {
     "data": {
      "text/html": [
       "<div>\n",
       "<style scoped>\n",
       "    .dataframe tbody tr th:only-of-type {\n",
       "        vertical-align: middle;\n",
       "    }\n",
       "\n",
       "    .dataframe tbody tr th {\n",
       "        vertical-align: top;\n",
       "    }\n",
       "\n",
       "    .dataframe thead th {\n",
       "        text-align: right;\n",
       "    }\n",
       "</style>\n",
       "<table border=\"1\" class=\"dataframe\">\n",
       "  <thead>\n",
       "    <tr style=\"text-align: right;\">\n",
       "      <th></th>\n",
       "      <th>Sentence</th>\n",
       "      <th>PMCID</th>\n",
       "      <th>NER_Tags</th>\n",
       "    </tr>\n",
       "  </thead>\n",
       "  <tbody>\n",
       "    <tr>\n",
       "      <th>0</th>\n",
       "      <td>Prana Jagannatha GN ,  Mendel B ,  Labi NPT...</td>\n",
       "      <td>PMC11317698</td>\n",
       "      <td>[]</td>\n",
       "    </tr>\n",
       "    <tr>\n",
       "      <th>1</th>\n",
       "      <td>(A) Intersection of MAGMA, TWAS, PWAS in this...</td>\n",
       "      <td>PMC11443877</td>\n",
       "      <td>[(21, 26, MAGMA, magma-pipeline)]</td>\n",
       "    </tr>\n",
       "    <tr>\n",
       "      <th>2</th>\n",
       "      <td>- \"We identify some limitations of MarkerScan...</td>\n",
       "      <td>PMC11016177</td>\n",
       "      <td>[(36, 46, MarkerScan, markerscan), (128, 138, ...</td>\n",
       "    </tr>\n",
       "    <tr>\n",
       "      <th>3</th>\n",
       "      <td>Algorithm 1A single iteration of the MaBoSS s...</td>\n",
       "      <td>PMC11127412</td>\n",
       "      <td>[(38, 44, MaBoSS, maboss)]</td>\n",
       "    </tr>\n",
       "    <tr>\n",
       "      <th>4</th>\n",
       "      <td>Author contributions: Conceptualization: Shuc...</td>\n",
       "      <td>PMC11340858</td>\n",
       "      <td>[]</td>\n",
       "    </tr>\n",
       "  </tbody>\n",
       "</table>\n",
       "</div>"
      ],
      "text/plain": [
       "                                            Sentence        PMCID  \\\n",
       "0     Prana Jagannatha GN ,  Mendel B ,  Labi NPT...  PMC11317698   \n",
       "1   (A) Intersection of MAGMA, TWAS, PWAS in this...  PMC11443877   \n",
       "2   - \"We identify some limitations of MarkerScan...  PMC11016177   \n",
       "3   Algorithm 1A single iteration of the MaBoSS s...  PMC11127412   \n",
       "4   Author contributions: Conceptualization: Shuc...  PMC11340858   \n",
       "\n",
       "                                            NER_Tags  \n",
       "0                                                 []  \n",
       "1                  [(21, 26, MAGMA, magma-pipeline)]  \n",
       "2  [(36, 46, MarkerScan, markerscan), (128, 138, ...  \n",
       "3                         [(38, 44, MaBoSS, maboss)]  \n",
       "4                                                 []  "
      ]
     },
     "execution_count": 7,
     "metadata": {},
     "output_type": "execute_result"
    }
   ],
   "source": [
    "true_checked_df = true_checked_df[[\"PMCID\", \"Sentence\", \"NER_Tags\"]]\n",
    "true_checked_df[\"NER_Tags\"] = true_checked_df[\"NER_Tags\"].apply(\n",
    "    lambda x: ast.literal_eval(x) if isinstance(x, str) else x\n",
    ")\n",
    "grouped_df = (\n",
    "    true_checked_df.groupby([\"Sentence\", \"PMCID\"])[\"NER_Tags\"]\n",
    "    .apply(lambda x: [i for i in x if i is not None])\n",
    "    .reset_index()\n",
    ")\n",
    "grouped_df.head(5)"
   ]
  },
  {
   "cell_type": "code",
   "execution_count": 8,
   "id": "75effbd4",
   "metadata": {},
   "outputs": [],
   "source": [
    "grouped_df[\"NER_Tags\"] = grouped_df[\"NER_Tags\"].apply(\n",
    "    lambda x: [[item[0], item[1], item[2], \"BT\"] for item in x] if x else None\n",
    ")\n",
    "grouped_df.reset_index(drop=True, inplace=True)"
   ]
  },
  {
   "cell_type": "code",
   "execution_count": 9,
   "id": "869b7c99",
   "metadata": {},
   "outputs": [],
   "source": [
    "# Avoid PMCDID duplicates in both train and test sets\n",
    "grouped_df.sort_values(by=\"PMCID\", inplace=True)\n",
    "train_df, test_df = train_test_split(\n",
    "    grouped_df, test_size=0.2, random_state=42, shuffle=False\n",
    ")\n",
    "test_df = test_df[~test_df[\"PMCID\"].isin(train_df[\"PMCID\"])]"
   ]
  },
  {
   "cell_type": "code",
   "execution_count": 10,
   "id": "700fd744",
   "metadata": {},
   "outputs": [],
   "source": [
    "train_df = (\n",
    "    train_df.drop(columns=[\"PMCID\"])\n",
    "    .sample(frac=1, random_state=random_state)\n",
    "    .reset_index(drop=True)\n",
    ")\n",
    "test_df = (\n",
    "    test_df.drop(columns=[\"PMCID\"])\n",
    "    .sample(frac=1, random_state=random_state)\n",
    "    .reset_index(drop=True)\n",
    ")"
   ]
  },
  {
   "cell_type": "code",
   "execution_count": 11,
   "id": "efebfe21",
   "metadata": {},
   "outputs": [
    {
     "data": {
      "text/html": [
       "<div>\n",
       "<style scoped>\n",
       "    .dataframe tbody tr th:only-of-type {\n",
       "        vertical-align: middle;\n",
       "    }\n",
       "\n",
       "    .dataframe tbody tr th {\n",
       "        vertical-align: top;\n",
       "    }\n",
       "\n",
       "    .dataframe thead th {\n",
       "        text-align: right;\n",
       "    }\n",
       "</style>\n",
       "<table border=\"1\" class=\"dataframe\">\n",
       "  <thead>\n",
       "    <tr style=\"text-align: right;\">\n",
       "      <th></th>\n",
       "      <th>Sentence</th>\n",
       "      <th>NER_Tags</th>\n",
       "    </tr>\n",
       "  </thead>\n",
       "  <tbody>\n",
       "    <tr>\n",
       "      <th>2239</th>\n",
       "      <td>By incorporating several multi-omics integrati...</td>\n",
       "      <td>[[65, 75, DriverDBv4, BT]]</td>\n",
       "    </tr>\n",
       "    <tr>\n",
       "      <th>2240</th>\n",
       "      <td>vcfdist segments contigs into independent supe...</td>\n",
       "      <td>[[113, 118, BiWFA, BT]]</td>\n",
       "    </tr>\n",
       "    <tr>\n",
       "      <th>2241</th>\n",
       "      <td>Some of the rodent-borne hantaviruses have bee...</td>\n",
       "      <td>None</td>\n",
       "    </tr>\n",
       "    <tr>\n",
       "      <th>2242</th>\n",
       "      <td>The EPIK-P1 study did not collect data on spec...</td>\n",
       "      <td>None</td>\n",
       "    </tr>\n",
       "    <tr>\n",
       "      <th>2243</th>\n",
       "      <td>In rnaCrosslinkOO, an adjacency matrix is crea...</td>\n",
       "      <td>[[3, 17, rnaCrosslinkOO, BT]]</td>\n",
       "    </tr>\n",
       "  </tbody>\n",
       "</table>\n",
       "</div>"
      ],
      "text/plain": [
       "                                               Sentence  \\\n",
       "2239  By incorporating several multi-omics integrati...   \n",
       "2240  vcfdist segments contigs into independent supe...   \n",
       "2241  Some of the rodent-borne hantaviruses have bee...   \n",
       "2242  The EPIK-P1 study did not collect data on spec...   \n",
       "2243  In rnaCrosslinkOO, an adjacency matrix is crea...   \n",
       "\n",
       "                           NER_Tags  \n",
       "2239     [[65, 75, DriverDBv4, BT]]  \n",
       "2240        [[113, 118, BiWFA, BT]]  \n",
       "2241                           None  \n",
       "2242                           None  \n",
       "2243  [[3, 17, rnaCrosslinkOO, BT]]  "
      ]
     },
     "execution_count": 11,
     "metadata": {},
     "output_type": "execute_result"
    }
   ],
   "source": [
    "train_df.tail(5)"
   ]
  },
  {
   "cell_type": "code",
   "execution_count": 12,
   "id": "ac80e692",
   "metadata": {},
   "outputs": [],
   "source": [
    "path = Path().cwd().parent\n",
    "output_folder = path / \"data/IOB/\"\n",
    "output_folder.mkdir(parents=True, exist_ok=True)"
   ]
  },
  {
   "cell_type": "code",
   "execution_count": 13,
   "id": "390b38cc",
   "metadata": {},
   "outputs": [
    {
     "name": "stderr",
     "output_type": "stream",
     "text": [
      "Processing batches: 100%|██████████| 5/5 [00:00<00:00, 66.83it/s]\n",
      "Processing batches: 100%|██████████| 2/2 [00:00<00:00, 181.57it/s]\n"
     ]
    }
   ],
   "source": [
    "convert_to_IOB_format_from_df(train_df, output_folder, \"train_IOB.tsv\")\n",
    "convert_to_IOB_format_from_df(test_df, output_folder, \"dev_IOB.tsv\")"
   ]
  },
  {
   "cell_type": "code",
   "execution_count": 14,
   "id": "a04a1a4d",
   "metadata": {},
   "outputs": [
    {
     "name": "stdout",
     "output_type": "stream",
     "text": [
      "\n",
      "Checking Dataset 1:\n",
      "/root/biohackathon2024/data/IOB/train_IOB.tsv is valid.\n",
      "/root/biohackathon2024/data/IOB/dev_IOB.tsv is valid.\n",
      "/root/biohackathon2024/data/IOB/dev_IOB.tsv is valid.\n"
     ]
    }
   ],
   "source": [
    "train_files = [output_folder / \"train_IOB.tsv\"]\n",
    "dev_files = [output_folder / \"dev_IOB.tsv\"]\n",
    "\n",
    "check_integrity_of_files(train_files, dev_files, dev_files)"
   ]
  }
 ],
 "metadata": {
  "kernelspec": {
   "display_name": "bh24-literature-mining-Vwh2BCYY-py3.12",
   "language": "python",
   "name": "python3"
  },
  "language_info": {
   "codemirror_mode": {
    "name": "ipython",
    "version": 3
   },
   "file_extension": ".py",
   "mimetype": "text/x-python",
   "name": "python",
   "nbconvert_exporter": "python",
   "pygments_lexer": "ipython3",
   "version": "3.12.3"
  }
 },
 "nbformat": 4,
 "nbformat_minor": 5
}
