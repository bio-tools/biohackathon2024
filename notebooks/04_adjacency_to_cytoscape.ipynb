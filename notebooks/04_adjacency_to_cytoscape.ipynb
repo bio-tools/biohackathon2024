{
 "cells": [
  {
   "cell_type": "markdown",
   "metadata": {},
   "source": [
    "### Generating Cytoscape-Compatible Graphs for Co-Mentioning and Co-Citation Networks from Adjacency Matrix"
   ]
  },
  {
   "cell_type": "code",
   "execution_count": null,
   "metadata": {},
   "outputs": [],
   "source": [
    "import numpy as np\n",
    "import json\n",
    "import pandas as pd\n",
    "import requests\n",
    "import igraph as ig\n",
    "import py4cytoscape as p4c\n",
    "import pickle\n",
    "import gzip\n",
    "\n",
    "from pathlib import Path\n",
    "\n",
    "from bh24_literature_mining import graph_tools\n",
    "from bh24_literature_mining.europepmc_api import EuropePMCClient\n",
    "from bh24_literature_mining.utils import (\n",
    "    load_biotools_pub,\n",
    "    load_biotools_from_zip,\n",
    "    load_biotools_from_json,\n",
    ")"
   ]
  },
  {
   "cell_type": "markdown",
   "metadata": {},
   "source": [
    "### Load adjacency matrix.\n",
    "This matrix was generated using the notebook *\"create_adjacency.ipynb\"*."
   ]
  },
  {
   "cell_type": "code",
   "execution_count": null,
   "metadata": {},
   "outputs": [],
   "source": [
    "with gzip.open(\"../data/biotools/adjancency_cites_filt.pkl\", \"rb\") as f:\n",
    "    adjacency = pickle.load(f)"
   ]
  },
  {
   "cell_type": "markdown",
   "metadata": {},
   "source": [
    "Check total number of edges (matrix is symmetric)"
   ]
  },
  {
   "cell_type": "code",
   "execution_count": 66,
   "metadata": {},
   "outputs": [
    {
     "name": "stdout",
     "output_type": "stream",
     "text": [
      "Total edges (including undirected duplicates): 506784\n"
     ]
    }
   ],
   "source": [
    "num_edges = (adjacency.values > 0).sum()\n",
    "print(\"Total edges (including undirected duplicates):\", num_edges)"
   ]
  },
  {
   "cell_type": "markdown",
   "metadata": {},
   "source": [
    "### Apply optional filtering to prune edges"
   ]
  },
  {
   "cell_type": "markdown",
   "metadata": {},
   "source": [
    "#### Filter edges based on tool names and publication IDs"
   ]
  },
  {
   "cell_type": "markdown",
   "metadata": {},
   "source": [
    "Filters the adjacency matrix by removing edges between nodes that share the same prefix (tool name before \"\\_\")  or a suffix (pubmed ID after \"\\_\"). Useful for cocitation matrices - sometimes multiple tools come from the same publication, so if we only check citations of this publication we will add edges between these tools (their primary publication )\n",
    "\n",
    "Tools with the same name and different publication - may refer to the updated version of a tool, and then both are referenced. These edges might not be of interest. "
   ]
  },
  {
   "cell_type": "code",
   "execution_count": 67,
   "metadata": {},
   "outputs": [
    {
     "name": "stdout",
     "output_type": "stream",
     "text": [
      "Total edges (including undirected duplicates): 502884\n"
     ]
    }
   ],
   "source": [
    "adjacency_filtered = graph_tools.filter_edges_names_ids(adjacency)\n",
    "num_edges = (adjacency_filtered.values > 0).sum()\n",
    "print(\"Total edges (including undirected duplicates):\", num_edges)"
   ]
  },
  {
   "cell_type": "markdown",
   "metadata": {},
   "source": [
    "#### Filter edges based on edge weight (number of publications in common)"
   ]
  },
  {
   "cell_type": "code",
   "execution_count": null,
   "metadata": {},
   "outputs": [
    {
     "name": "stdout",
     "output_type": "stream",
     "text": [
      "Total edges (including undirected duplicates): 4804\n"
     ]
    }
   ],
   "source": [
    "adjacency_thresholded = graph_tools.filter_adjacency_by_threshold(\n",
    "    adjacency_filtered, threshold=50\n",
    ")\n",
    "num_edges = (adjacency_thresholded.values > 0).sum()\n",
    "print(\"Total edges (including undirected duplicates):\", num_edges)"
   ]
  },
  {
   "cell_type": "markdown",
   "metadata": {},
   "source": [
    "#### Check number of isolated nodes after this filtering"
   ]
  },
  {
   "cell_type": "code",
   "execution_count": null,
   "metadata": {},
   "outputs": [
    {
     "name": "stdout",
     "output_type": "stream",
     "text": [
      "Removed 9064 isolated nodes. Now 371 nodes left.\n"
     ]
    }
   ],
   "source": [
    "# Identify nodes (rows) where all connections are zero\n",
    "isolated_nodes = adjacency_thresholded.index[adjacency_thresholded.sum(axis=1) == 0]\n",
    "\n",
    "# Remove these nodes from both rows and columns\n",
    "adjacency_matrix_cleaned = adjacency_thresholded.drop(\n",
    "    index=isolated_nodes, columns=isolated_nodes\n",
    ")\n",
    "\n",
    "print(\n",
    "    f\"Removed {len(isolated_nodes)} isolated nodes. Now {adjacency_matrix_cleaned.shape[0]} nodes left.\"\n",
    ")"
   ]
  },
  {
   "cell_type": "code",
   "execution_count": null,
   "metadata": {},
   "outputs": [
    {
     "data": {
      "text/html": [
       "<div>\n",
       "<style scoped>\n",
       "    .dataframe tbody tr th:only-of-type {\n",
       "        vertical-align: middle;\n",
       "    }\n",
       "\n",
       "    .dataframe tbody tr th {\n",
       "        vertical-align: top;\n",
       "    }\n",
       "\n",
       "    .dataframe thead th {\n",
       "        text-align: right;\n",
       "    }\n",
       "</style>\n",
       "<table border=\"1\" class=\"dataframe\">\n",
       "  <thead>\n",
       "    <tr style=\"text-align: right;\">\n",
       "      <th></th>\n",
       "      <th>Seurat_34062119</th>\n",
       "      <th>Bakta_34739369</th>\n",
       "      <th>BCFtools_19505943</th>\n",
       "      <th>BCFtools_33590861</th>\n",
       "      <th>SAMtools_19505943</th>\n",
       "      <th>SAMtools_33590861</th>\n",
       "      <th>REPET_24786468</th>\n",
       "      <th>REPET_21304975</th>\n",
       "      <th>PASTEClassifier_24786468</th>\n",
       "      <th>Integrated Microbial Genomes (IMG)_22194640</th>\n",
       "      <th>...</th>\n",
       "      <th>DIALS_29533234</th>\n",
       "      <th>FEELnc_28053114</th>\n",
       "      <th>GUIDANCE2_25883146</th>\n",
       "      <th>iPro54-PseKNC_25361964</th>\n",
       "      <th>iRSpot-PseDNC_23303794</th>\n",
       "      <th>Pse-in-One_25958395</th>\n",
       "      <th>chromVAR_28825706</th>\n",
       "      <th>PLEK_25239089</th>\n",
       "      <th>W-IQ-TREE_27084950</th>\n",
       "      <th>CIPRes_25861210</th>\n",
       "    </tr>\n",
       "  </thead>\n",
       "  <tbody>\n",
       "    <tr>\n",
       "      <th>Seurat_34062119</th>\n",
       "      <td>0</td>\n",
       "      <td>0</td>\n",
       "      <td>115</td>\n",
       "      <td>60</td>\n",
       "      <td>115</td>\n",
       "      <td>60</td>\n",
       "      <td>0</td>\n",
       "      <td>0</td>\n",
       "      <td>0</td>\n",
       "      <td>0</td>\n",
       "      <td>...</td>\n",
       "      <td>0</td>\n",
       "      <td>0</td>\n",
       "      <td>0</td>\n",
       "      <td>0</td>\n",
       "      <td>0</td>\n",
       "      <td>0</td>\n",
       "      <td>96</td>\n",
       "      <td>0</td>\n",
       "      <td>0</td>\n",
       "      <td>0</td>\n",
       "    </tr>\n",
       "    <tr>\n",
       "      <th>Bakta_34739369</th>\n",
       "      <td>0</td>\n",
       "      <td>0</td>\n",
       "      <td>0</td>\n",
       "      <td>0</td>\n",
       "      <td>0</td>\n",
       "      <td>0</td>\n",
       "      <td>0</td>\n",
       "      <td>0</td>\n",
       "      <td>0</td>\n",
       "      <td>0</td>\n",
       "      <td>...</td>\n",
       "      <td>0</td>\n",
       "      <td>0</td>\n",
       "      <td>0</td>\n",
       "      <td>0</td>\n",
       "      <td>0</td>\n",
       "      <td>0</td>\n",
       "      <td>0</td>\n",
       "      <td>0</td>\n",
       "      <td>0</td>\n",
       "      <td>0</td>\n",
       "    </tr>\n",
       "    <tr>\n",
       "      <th>BCFtools_19505943</th>\n",
       "      <td>115</td>\n",
       "      <td>0</td>\n",
       "      <td>0</td>\n",
       "      <td>0</td>\n",
       "      <td>0</td>\n",
       "      <td>411</td>\n",
       "      <td>0</td>\n",
       "      <td>0</td>\n",
       "      <td>0</td>\n",
       "      <td>0</td>\n",
       "      <td>...</td>\n",
       "      <td>0</td>\n",
       "      <td>0</td>\n",
       "      <td>0</td>\n",
       "      <td>0</td>\n",
       "      <td>0</td>\n",
       "      <td>0</td>\n",
       "      <td>0</td>\n",
       "      <td>0</td>\n",
       "      <td>0</td>\n",
       "      <td>0</td>\n",
       "    </tr>\n",
       "    <tr>\n",
       "      <th>BCFtools_33590861</th>\n",
       "      <td>60</td>\n",
       "      <td>0</td>\n",
       "      <td>0</td>\n",
       "      <td>0</td>\n",
       "      <td>411</td>\n",
       "      <td>0</td>\n",
       "      <td>0</td>\n",
       "      <td>0</td>\n",
       "      <td>0</td>\n",
       "      <td>0</td>\n",
       "      <td>...</td>\n",
       "      <td>0</td>\n",
       "      <td>0</td>\n",
       "      <td>0</td>\n",
       "      <td>0</td>\n",
       "      <td>0</td>\n",
       "      <td>0</td>\n",
       "      <td>0</td>\n",
       "      <td>0</td>\n",
       "      <td>0</td>\n",
       "      <td>0</td>\n",
       "    </tr>\n",
       "    <tr>\n",
       "      <th>SAMtools_19505943</th>\n",
       "      <td>115</td>\n",
       "      <td>0</td>\n",
       "      <td>0</td>\n",
       "      <td>411</td>\n",
       "      <td>0</td>\n",
       "      <td>0</td>\n",
       "      <td>0</td>\n",
       "      <td>0</td>\n",
       "      <td>0</td>\n",
       "      <td>0</td>\n",
       "      <td>...</td>\n",
       "      <td>0</td>\n",
       "      <td>0</td>\n",
       "      <td>0</td>\n",
       "      <td>0</td>\n",
       "      <td>0</td>\n",
       "      <td>0</td>\n",
       "      <td>0</td>\n",
       "      <td>0</td>\n",
       "      <td>0</td>\n",
       "      <td>0</td>\n",
       "    </tr>\n",
       "    <tr>\n",
       "      <th>...</th>\n",
       "      <td>...</td>\n",
       "      <td>...</td>\n",
       "      <td>...</td>\n",
       "      <td>...</td>\n",
       "      <td>...</td>\n",
       "      <td>...</td>\n",
       "      <td>...</td>\n",
       "      <td>...</td>\n",
       "      <td>...</td>\n",
       "      <td>...</td>\n",
       "      <td>...</td>\n",
       "      <td>...</td>\n",
       "      <td>...</td>\n",
       "      <td>...</td>\n",
       "      <td>...</td>\n",
       "      <td>...</td>\n",
       "      <td>...</td>\n",
       "      <td>...</td>\n",
       "      <td>...</td>\n",
       "      <td>...</td>\n",
       "      <td>...</td>\n",
       "    </tr>\n",
       "    <tr>\n",
       "      <th>Pse-in-One_25958395</th>\n",
       "      <td>0</td>\n",
       "      <td>0</td>\n",
       "      <td>0</td>\n",
       "      <td>0</td>\n",
       "      <td>0</td>\n",
       "      <td>0</td>\n",
       "      <td>0</td>\n",
       "      <td>0</td>\n",
       "      <td>0</td>\n",
       "      <td>0</td>\n",
       "      <td>...</td>\n",
       "      <td>0</td>\n",
       "      <td>0</td>\n",
       "      <td>0</td>\n",
       "      <td>51</td>\n",
       "      <td>50</td>\n",
       "      <td>0</td>\n",
       "      <td>0</td>\n",
       "      <td>0</td>\n",
       "      <td>0</td>\n",
       "      <td>0</td>\n",
       "    </tr>\n",
       "    <tr>\n",
       "      <th>chromVAR_28825706</th>\n",
       "      <td>96</td>\n",
       "      <td>0</td>\n",
       "      <td>0</td>\n",
       "      <td>0</td>\n",
       "      <td>0</td>\n",
       "      <td>0</td>\n",
       "      <td>0</td>\n",
       "      <td>0</td>\n",
       "      <td>0</td>\n",
       "      <td>0</td>\n",
       "      <td>...</td>\n",
       "      <td>0</td>\n",
       "      <td>0</td>\n",
       "      <td>0</td>\n",
       "      <td>0</td>\n",
       "      <td>0</td>\n",
       "      <td>0</td>\n",
       "      <td>0</td>\n",
       "      <td>0</td>\n",
       "      <td>0</td>\n",
       "      <td>0</td>\n",
       "    </tr>\n",
       "    <tr>\n",
       "      <th>PLEK_25239089</th>\n",
       "      <td>0</td>\n",
       "      <td>0</td>\n",
       "      <td>0</td>\n",
       "      <td>0</td>\n",
       "      <td>0</td>\n",
       "      <td>0</td>\n",
       "      <td>0</td>\n",
       "      <td>0</td>\n",
       "      <td>0</td>\n",
       "      <td>0</td>\n",
       "      <td>...</td>\n",
       "      <td>0</td>\n",
       "      <td>0</td>\n",
       "      <td>0</td>\n",
       "      <td>0</td>\n",
       "      <td>0</td>\n",
       "      <td>0</td>\n",
       "      <td>0</td>\n",
       "      <td>0</td>\n",
       "      <td>0</td>\n",
       "      <td>0</td>\n",
       "    </tr>\n",
       "    <tr>\n",
       "      <th>W-IQ-TREE_27084950</th>\n",
       "      <td>0</td>\n",
       "      <td>0</td>\n",
       "      <td>0</td>\n",
       "      <td>0</td>\n",
       "      <td>0</td>\n",
       "      <td>0</td>\n",
       "      <td>0</td>\n",
       "      <td>0</td>\n",
       "      <td>0</td>\n",
       "      <td>0</td>\n",
       "      <td>...</td>\n",
       "      <td>0</td>\n",
       "      <td>0</td>\n",
       "      <td>0</td>\n",
       "      <td>0</td>\n",
       "      <td>0</td>\n",
       "      <td>0</td>\n",
       "      <td>0</td>\n",
       "      <td>0</td>\n",
       "      <td>0</td>\n",
       "      <td>0</td>\n",
       "    </tr>\n",
       "    <tr>\n",
       "      <th>CIPRes_25861210</th>\n",
       "      <td>0</td>\n",
       "      <td>0</td>\n",
       "      <td>0</td>\n",
       "      <td>0</td>\n",
       "      <td>0</td>\n",
       "      <td>0</td>\n",
       "      <td>0</td>\n",
       "      <td>0</td>\n",
       "      <td>0</td>\n",
       "      <td>0</td>\n",
       "      <td>...</td>\n",
       "      <td>0</td>\n",
       "      <td>0</td>\n",
       "      <td>0</td>\n",
       "      <td>0</td>\n",
       "      <td>0</td>\n",
       "      <td>0</td>\n",
       "      <td>0</td>\n",
       "      <td>0</td>\n",
       "      <td>0</td>\n",
       "      <td>0</td>\n",
       "    </tr>\n",
       "  </tbody>\n",
       "</table>\n",
       "<p>371 rows × 371 columns</p>\n",
       "</div>"
      ],
      "text/plain": [
       "                     Seurat_34062119  Bakta_34739369  BCFtools_19505943  \\\n",
       "Seurat_34062119                    0               0                115   \n",
       "Bakta_34739369                     0               0                  0   \n",
       "BCFtools_19505943                115               0                  0   \n",
       "BCFtools_33590861                 60               0                  0   \n",
       "SAMtools_19505943                115               0                  0   \n",
       "...                              ...             ...                ...   \n",
       "Pse-in-One_25958395                0               0                  0   \n",
       "chromVAR_28825706                 96               0                  0   \n",
       "PLEK_25239089                      0               0                  0   \n",
       "W-IQ-TREE_27084950                 0               0                  0   \n",
       "CIPRes_25861210                    0               0                  0   \n",
       "\n",
       "                     BCFtools_33590861  SAMtools_19505943  SAMtools_33590861  \\\n",
       "Seurat_34062119                     60                115                 60   \n",
       "Bakta_34739369                       0                  0                  0   \n",
       "BCFtools_19505943                    0                  0                411   \n",
       "BCFtools_33590861                    0                411                  0   \n",
       "SAMtools_19505943                  411                  0                  0   \n",
       "...                                ...                ...                ...   \n",
       "Pse-in-One_25958395                  0                  0                  0   \n",
       "chromVAR_28825706                    0                  0                  0   \n",
       "PLEK_25239089                        0                  0                  0   \n",
       "W-IQ-TREE_27084950                   0                  0                  0   \n",
       "CIPRes_25861210                      0                  0                  0   \n",
       "\n",
       "                     REPET_24786468  REPET_21304975  PASTEClassifier_24786468  \\\n",
       "Seurat_34062119                   0               0                         0   \n",
       "Bakta_34739369                    0               0                         0   \n",
       "BCFtools_19505943                 0               0                         0   \n",
       "BCFtools_33590861                 0               0                         0   \n",
       "SAMtools_19505943                 0               0                         0   \n",
       "...                             ...             ...                       ...   \n",
       "Pse-in-One_25958395               0               0                         0   \n",
       "chromVAR_28825706                 0               0                         0   \n",
       "PLEK_25239089                     0               0                         0   \n",
       "W-IQ-TREE_27084950                0               0                         0   \n",
       "CIPRes_25861210                   0               0                         0   \n",
       "\n",
       "                     Integrated Microbial Genomes (IMG)_22194640  ...  \\\n",
       "Seurat_34062119                                                0  ...   \n",
       "Bakta_34739369                                                 0  ...   \n",
       "BCFtools_19505943                                              0  ...   \n",
       "BCFtools_33590861                                              0  ...   \n",
       "SAMtools_19505943                                              0  ...   \n",
       "...                                                          ...  ...   \n",
       "Pse-in-One_25958395                                            0  ...   \n",
       "chromVAR_28825706                                              0  ...   \n",
       "PLEK_25239089                                                  0  ...   \n",
       "W-IQ-TREE_27084950                                             0  ...   \n",
       "CIPRes_25861210                                                0  ...   \n",
       "\n",
       "                     DIALS_29533234  FEELnc_28053114  GUIDANCE2_25883146  \\\n",
       "Seurat_34062119                   0                0                   0   \n",
       "Bakta_34739369                    0                0                   0   \n",
       "BCFtools_19505943                 0                0                   0   \n",
       "BCFtools_33590861                 0                0                   0   \n",
       "SAMtools_19505943                 0                0                   0   \n",
       "...                             ...              ...                 ...   \n",
       "Pse-in-One_25958395               0                0                   0   \n",
       "chromVAR_28825706                 0                0                   0   \n",
       "PLEK_25239089                     0                0                   0   \n",
       "W-IQ-TREE_27084950                0                0                   0   \n",
       "CIPRes_25861210                   0                0                   0   \n",
       "\n",
       "                     iPro54-PseKNC_25361964  iRSpot-PseDNC_23303794  \\\n",
       "Seurat_34062119                           0                       0   \n",
       "Bakta_34739369                            0                       0   \n",
       "BCFtools_19505943                         0                       0   \n",
       "BCFtools_33590861                         0                       0   \n",
       "SAMtools_19505943                         0                       0   \n",
       "...                                     ...                     ...   \n",
       "Pse-in-One_25958395                      51                      50   \n",
       "chromVAR_28825706                         0                       0   \n",
       "PLEK_25239089                             0                       0   \n",
       "W-IQ-TREE_27084950                        0                       0   \n",
       "CIPRes_25861210                           0                       0   \n",
       "\n",
       "                     Pse-in-One_25958395  chromVAR_28825706  PLEK_25239089  \\\n",
       "Seurat_34062119                        0                 96              0   \n",
       "Bakta_34739369                         0                  0              0   \n",
       "BCFtools_19505943                      0                  0              0   \n",
       "BCFtools_33590861                      0                  0              0   \n",
       "SAMtools_19505943                      0                  0              0   \n",
       "...                                  ...                ...            ...   \n",
       "Pse-in-One_25958395                    0                  0              0   \n",
       "chromVAR_28825706                      0                  0              0   \n",
       "PLEK_25239089                          0                  0              0   \n",
       "W-IQ-TREE_27084950                     0                  0              0   \n",
       "CIPRes_25861210                        0                  0              0   \n",
       "\n",
       "                     W-IQ-TREE_27084950  CIPRes_25861210  \n",
       "Seurat_34062119                       0                0  \n",
       "Bakta_34739369                        0                0  \n",
       "BCFtools_19505943                     0                0  \n",
       "BCFtools_33590861                     0                0  \n",
       "SAMtools_19505943                     0                0  \n",
       "...                                 ...              ...  \n",
       "Pse-in-One_25958395                   0                0  \n",
       "chromVAR_28825706                     0                0  \n",
       "PLEK_25239089                         0                0  \n",
       "W-IQ-TREE_27084950                    0                0  \n",
       "CIPRes_25861210                       0                0  \n",
       "\n",
       "[371 rows x 371 columns]"
      ]
     },
     "execution_count": 76,
     "metadata": {},
     "output_type": "execute_result"
    }
   ],
   "source": [
    "adjacency_matrix_cleaned"
   ]
  },
  {
   "cell_type": "markdown",
   "metadata": {},
   "source": [
    "### Generate Cytoscape-compatible Graph from Adjacency\n",
    "\n",
    "First, we generate iGraph object from which network in Cytoscape can be created. We also add functionality to save iGraph object as CytoscapeJS object for the further use for Cytoscapa Java script plug in."
   ]
  },
  {
   "cell_type": "markdown",
   "metadata": {},
   "source": [
    "#### Generate iGraph\n"
   ]
  },
  {
   "cell_type": "code",
   "execution_count": null,
   "metadata": {},
   "outputs": [],
   "source": [
    "# Get the values as np.array, it's more convenient.\n",
    "A = adjacency_matrix_cleaned.values\n",
    "\n",
    "# Create graph, A.astype(bool).tolist() or (A / A).tolist() can also be used.\n",
    "g = ig.Graph.Adjacency((A > 0).tolist(), mode=\"undirected\")\n",
    "\n",
    "# Add edge weights and node labels.\n",
    "g.es[\"weight\"] = A[A.nonzero()]\n",
    "# Split the names into two parts: before and after '_'\n",
    "g.vs[\"name\"] = adjacency_matrix_cleaned.index\n",
    "g.vs[\"tool_name\"] = [\n",
    "    name.split(\"_\")[0] for name in adjacency_matrix_cleaned.columns\n",
    "]  # Before '_'\n",
    "g.vs[\"pubmedid\"] = [\n",
    "    name.split(\"_\")[1] for name in adjacency_matrix_cleaned.columns\n",
    "]  # After '_'\n",
    "g.vs[\"degree\"] = g.degree()"
   ]
  },
  {
   "cell_type": "markdown",
   "metadata": {},
   "source": [
    "### Run cytoscape"
   ]
  },
  {
   "cell_type": "markdown",
   "metadata": {},
   "source": [
    "#### Connecting Jupyter to Cytoscape\n",
    "\n",
    "Jupyter Bridge allows a remote Jupyter Notebook to execute functions on a locally running Cytoscape instance. If you are using a local Jupyter Notebook, this step is not required—Py4Cytoscape can communicate with Cytoscape directly."
   ]
  },
  {
   "cell_type": "code",
   "execution_count": null,
   "metadata": {},
   "outputs": [
    {
     "name": "stdout",
     "output_type": "stream",
     "text": [
      "Loading Javascript client ... 5aaa35ce-1276-4c39-b922-4fdd3aa6f1b7 on https://jupyter-bridge.cytoscape.org\n"
     ]
    }
   ],
   "source": [
    "print(\n",
    "    f\"Loading Javascript client ... {p4c.get_browser_client_channel()} on {p4c.get_jupyter_bridge_url()}\"\n",
    ")\n",
    "browser_client_js = p4c.get_browser_client_js()\n",
    "IPython.display.Javascript(browser_client_js)  # Start browser client"
   ]
  },
  {
   "cell_type": "markdown",
   "metadata": {},
   "source": [
    "Check the connection"
   ]
  },
  {
   "cell_type": "code",
   "execution_count": 79,
   "metadata": {},
   "outputs": [
    {
     "name": "stdout",
     "output_type": "stream",
     "text": [
      "You are connected to Cytoscape!\n"
     ]
    },
    {
     "data": {
      "text/plain": [
       "{'apiVersion': 'v1',\n",
       " 'cytoscapeVersion': '3.10.3',\n",
       " 'automationAPIVersion': '1.11.0',\n",
       " 'py4cytoscapeVersion': '1.11.0'}"
      ]
     },
     "execution_count": 79,
     "metadata": {},
     "output_type": "execute_result"
    }
   ],
   "source": [
    "p4c.cytoscape_ping()\n",
    "p4c.cytoscape_version_info()"
   ]
  },
  {
   "cell_type": "markdown",
   "metadata": {},
   "source": [
    "#### Load igraph network to Cytoscape"
   ]
  },
  {
   "cell_type": "code",
   "execution_count": null,
   "metadata": {},
   "outputs": [
    {
     "name": "stdout",
     "output_type": "stream",
     "text": [
      "Applying default style...\n",
      "Applying preferred layout\n",
      "style_name not specified, so updating \"default\" style.\n",
      "style_name not specified, so updating \"default\" style.\n",
      "style_name not specified, so updating \"default\" style.\n",
      "style_name not specified, so updating \"default\" style.\n",
      "style_name not specified, so updating \"default\" style.\n",
      "style_name not specified, so updating \"default\" style.\n",
      "style_name not specified, so updating \"default\" style.\n",
      "style_name not specified, so updating \"default\" style.\n",
      "style_name not specified, so updating \"default\" style.\n",
      "style_name not specified, so updating \"default\" style.\n"
     ]
    },
    {
     "data": {
      "text/plain": [
       "''"
      ]
     },
     "execution_count": 80,
     "metadata": {},
     "output_type": "execute_result"
    }
   ],
   "source": [
    "p4c.create_network_from_igraph(\n",
    "    g, title=\"Cocitation Network\", collection=\"Cocitation Network Collection\"\n",
    ")\n",
    "\n",
    "# Set visual properties\n",
    "\n",
    "p4c.set_edge_color_mapping(\n",
    "    **p4c.style_auto_mappings.gen_edge_color_map(\"weight\", mapping_type=\"d\")\n",
    ")\n",
    "p4c.set_node_color_mapping(\n",
    "    **p4c.style_auto_mappings.gen_node_color_map(\"degree\", mapping_type=\"d\")\n",
    ")\n",
    "p4c.set_node_shape_default(\"ELLIPSE\")\n",
    "p4c.set_node_width_default(30)\n",
    "p4c.set_node_height_default(30)"
   ]
  },
  {
   "cell_type": "markdown",
   "metadata": {},
   "source": [
    "#### Create CytoscapeJS JSON from network loded to Cytoscape"
   ]
  },
  {
   "cell_type": "markdown",
   "metadata": {},
   "source": [
    "Take the “current” network active in Cytoscape and generate network file for CytoscapeJS JSON and style file for CytoscapeJS JSON "
   ]
  },
  {
   "cell_type": "markdown",
   "metadata": {},
   "source": [
    "Rename current style"
   ]
  },
  {
   "cell_type": "code",
   "execution_count": 89,
   "metadata": {},
   "outputs": [
    {
     "name": "stdout",
     "output_type": "stream",
     "text": [
      "Current Style: cocitation_style\n",
      "Style renamed to: cocitation_style\n"
     ]
    }
   ],
   "source": [
    "# Step 1: Get the current style\n",
    "current_style = p4c.get_current_style()\n",
    "print(f\"Current Style: {current_style}\")\n",
    "# Define new style name\n",
    "new_style_name = \"cocitation_style\"\n",
    "# Step 2: Duplicate the style with a new name\n",
    "p4c.copy_visual_style(current_style, new_style_name)\n",
    "# Step 3: Set this style as active\n",
    "p4c.set_visual_style(new_style_name)\n",
    "print(f\"Style renamed to: {new_style_name}\")"
   ]
  },
  {
   "cell_type": "markdown",
   "metadata": {},
   "source": [
    "Save current style"
   ]
  },
  {
   "cell_type": "code",
   "execution_count": null,
   "metadata": {},
   "outputs": [],
   "source": [
    "path_out = Path().cwd().parent.parent / \"data\" / \"graph_generation\"\n",
    "style_filename = path_out / \"cocitation_style.json\"\n",
    "p4c.export_visual_styles(style_filename, type=\"json\")"
   ]
  },
  {
   "cell_type": "markdown",
   "metadata": {},
   "source": [
    "Generate and save network"
   ]
  },
  {
   "cell_type": "code",
   "execution_count": 93,
   "metadata": {},
   "outputs": [],
   "source": [
    "network = p4c.create_cytoscapejs_from_network()"
   ]
  },
  {
   "cell_type": "code",
   "execution_count": null,
   "metadata": {},
   "outputs": [],
   "source": [
    "json_filename = path_out / \"cocitation_graph.cyjs\"\n",
    "with open(json_filename, \"w\") as json_file:\n",
    "    json.dump(network, json_file, indent=4)\n",
    "\n",
    "print(f\"Data saved to {json_filename}\")"
   ]
  }
 ],
 "metadata": {
  "kernelspec": {
   "display_name": "MATseq",
   "language": "python",
   "name": "python3"
  },
  "language_info": {
   "codemirror_mode": {
    "name": "ipython",
    "version": 3
   },
   "file_extension": ".py",
   "mimetype": "text/x-python",
   "name": "python",
   "nbconvert_exporter": "python",
   "pygments_lexer": "ipython3",
   "version": "3.10.14"
  }
 },
 "nbformat": 4,
 "nbformat_minor": 2
}
