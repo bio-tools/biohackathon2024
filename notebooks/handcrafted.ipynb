{
 "cells": [
  {
   "cell_type": "code",
   "id": "e2f7fb1876c3ffc3",
   "metadata": {},
   "source": [
    "from handcrafted.handcrafted import match_xml\n",
    "from IPython.display import display, HTML"
   ],
   "outputs": [],
   "execution_count": null
  },
  {
   "cell_type": "code",
   "id": "db922ef0d2d40a5f",
   "metadata": {},
   "source": [
    "display(HTML(match_xml('PMC2238880')))"
   ],
   "outputs": [],
   "execution_count": null
  },
  {
   "cell_type": "code",
   "id": "initial_id",
   "metadata": {},
   "source": [
    "display(HTML(match_xml(['PMC3125781', 'PMC7005830', 'PMC4422463'])))"
   ],
   "outputs": [],
   "execution_count": null
  }
 ],
 "metadata": {
  "kernelspec": {
   "display_name": "BioHackathon 2024",
   "language": "python",
   "name": "biohackathon-2024"
  },
  "language_info": {
   "codemirror_mode": {
    "name": "ipython",
    "version": 3
   },
   "file_extension": ".py",
   "mimetype": "text/x-python",
   "name": "python",
   "nbconvert_exporter": "python",
   "pygments_lexer": "ipython3",
   "version": "3.12.7"
  }
 },
 "nbformat": 4,
 "nbformat_minor": 5
}
