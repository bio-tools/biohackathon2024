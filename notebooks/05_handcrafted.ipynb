{
 "cells": [
  {
   "cell_type": "code",
   "execution_count": null,
   "id": "e2f7fb1876c3ffc3",
   "metadata": {},
   "outputs": [],
   "source": [
    "from bh24_literature_mining.handcrafted import match_xml\n",
    "from IPython.display import display, HTML"
   ]
  },
  {
   "cell_type": "code",
   "execution_count": null,
   "id": "db922ef0d2d40a5f",
   "metadata": {},
   "outputs": [],
   "source": [
    "display(HTML(match_xml(\"PMC2238880\")))"
   ]
  },
  {
   "cell_type": "code",
   "execution_count": null,
   "id": "initial_id",
   "metadata": {},
   "outputs": [],
   "source": [
    "display(HTML(match_xml([\"PMC3125781\", \"PMC7005830\", \"PMC4422463\"])))"
   ]
  }
 ],
 "metadata": {
  "kernelspec": {
   "display_name": "MATseq",
   "language": "python",
   "name": "python3"
  },
  "language_info": {
   "codemirror_mode": {
    "name": "ipython",
    "version": 3
   },
   "file_extension": ".py",
   "mimetype": "text/x-python",
   "name": "python",
   "nbconvert_exporter": "python",
   "pygments_lexer": "ipython3",
   "version": "3.10.14"
  }
 },
 "nbformat": 4,
 "nbformat_minor": 5
}
