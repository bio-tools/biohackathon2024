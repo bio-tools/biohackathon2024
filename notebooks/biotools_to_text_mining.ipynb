{
 "cells": [
  {
   "cell_type": "markdown",
   "metadata": {
    "id": "aXQnWq2kDor5"
   },
   "source": [
    "# bio.tools to text mining\n",
    "This is a Jupyter notebook for extracting publications for software tools in bio.tools that are open access and amenable for text mining.\n"
   ]
  },
  {
   "cell_type": "markdown",
   "metadata": {
    "id": "o3OoQjfuG4kp"
   },
   "source": [
    "This may eventually become a *polyglot* notebook, combining Python and R code snippets. To allow for execution of R code, we first load the rpy2 package:"
   ]
  },
  {
   "cell_type": "code",
   "execution_count": null,
   "metadata": {
    "id": "PtWOMhgKD_jL"
   },
   "outputs": [],
   "source": [
    "%load_ext rpy2.ipython"
   ]
  },
  {
   "cell_type": "markdown",
   "metadata": {
    "id": "bw83QscWKp3A"
   },
   "source": [
    "Then load the necessary libraries (not all of these may be necessary with in the current notebook, but will be):"
   ]
  },
  {
   "cell_type": "code",
   "execution_count": null,
   "metadata": {
    "colab": {
     "base_uri": "https://localhost:8080/"
    },
    "collapsed": true,
    "id": "UdrSlrbFHCUU",
    "jupyter": {
     "outputs_hidden": true
    },
    "outputId": "3fdd2c0f-a680-4125-db1f-03d37d80b792"
   },
   "outputs": [],
   "source": [
    "%%R\n",
    "library(jsonlite)\n",
    "library(httr)\n",
    "library(stringr)\n",
    "install.packages(\"europepmc\")\n",
    "library(europepmc)"
   ]
  },
  {
   "cell_type": "markdown",
   "metadata": {
    "id": "8D6kU12sCUii"
   },
   "source": [
    "# Get a subset of bio.tools publications\n",
    "First extract tool names and corresponding publications from bio.tools:"
   ]
  },
  {
   "cell_type": "code",
   "execution_count": null,
   "metadata": {
    "collapsed": true,
    "id": "T-NU8lGRHPCj",
    "jupyter": {
     "outputs_hidden": true
    }
   },
   "outputs": [],
   "source": [
    "%%R\n",
    "toolnames <- c()\n",
    "toolpmids <- c()\n",
    "page <- 1\n",
    "while(page<230) { # replace with check if last page has been reached...\n",
    "  tools <- content(GET(paste0('https://bio.tools/api/tool/?topic=%22', 'proteomics', '%22&format=json&page=', page)), as='parsed')$list\n",
    "  for(t in tools) {for(p in t$publication) if(length(p$pmid)) {\n",
    "      toolnames <- c(toolnames, t$name)\n",
    "      toolpmids <- c(toolpmids, p$pmid)\n",
    "      }\n",
    "  }\n",
    "  page <- page+1\n",
    "}"
   ]
  },
  {
   "cell_type": "markdown",
   "metadata": {
    "id": "P1P47SRWOxW_"
   },
   "source": [
    "Then check and keep only those tools and publications, where the publications are open access:"
   ]
  },
  {
   "cell_type": "code",
   "execution_count": null,
   "metadata": {
    "colab": {
     "base_uri": "https://localhost:8080/"
    },
    "id": "WfmD5pmmPqMe",
    "outputId": "0690ac5d-6e48-4a9b-ca5b-d45fbaf9ca23"
   },
   "outputs": [],
   "source": [
    "%%R\n",
    "tooloa <- c()\n",
    "for(pmid in toolpmids) {\n",
    "    is_oa <- suppressMessages(epmc_search(query = paste0('EXT_ID:', pmid), output = 'parsed'))\n",
    "    if(is_oa$isOpenAccess=='Y') toolnameoa <- c()\n",
    "    tooloa <- c(tooloa, is_oa$isOpenAccess)\n",
    "}"
   ]
  },
  {
   "cell_type": "markdown",
   "metadata": {
    "id": "whHt2YIFTCXL"
   },
   "source": [
    "Count what fraction of tool publications are open access:"
   ]
  },
  {
   "cell_type": "code",
   "execution_count": null,
   "metadata": {
    "colab": {
     "base_uri": "https://localhost:8080/"
    },
    "id": "zu1qZxMxRmoB",
    "outputId": "aa74044c-cd01-4d33-d687-5c8c9ca4ee7f"
   },
   "outputs": [],
   "source": [
    "%%R\n",
    "sum(tooloa==\"Y\")/(sum(tooloa==\"Y\") + sum(tooloa==\"N\"))"
   ]
  },
  {
   "cell_type": "markdown",
   "metadata": {
    "id": "Z-SkQ0JVdpgt"
   },
   "source": [
    "And how many open access publications we have:"
   ]
  },
  {
   "cell_type": "code",
   "execution_count": null,
   "metadata": {
    "colab": {
     "base_uri": "https://localhost:8080/"
    },
    "id": "LvJPHOkdYT1-",
    "outputId": "a3029295-4c36-4011-dfb1-5d6857598639"
   },
   "outputs": [],
   "source": [
    "%%R\n",
    "sum(tooloa==\"Y\")"
   ]
  },
  {
   "cell_type": "markdown",
   "metadata": {
    "id": "I7wNLQileAHk"
   },
   "source": [
    "Keep only those tool-publication pairs where the publications are open access:"
   ]
  },
  {
   "cell_type": "code",
   "execution_count": null,
   "metadata": {
    "id": "CJofmXPSdobD"
   },
   "outputs": [],
   "source": [
    "%%R\n",
    "toolpmids <- toolpmids[tooloa==\"Y\"]\n",
    "toolnames <- toolnames[tooloa==\"Y\"]"
   ]
  },
  {
   "cell_type": "markdown",
   "metadata": {
    "id": "pGa6HmGvgQvv"
   },
   "source": [
    "Make a data frame and save to TSV file:"
   ]
  },
  {
   "cell_type": "code",
   "execution_count": null,
   "metadata": {
    "id": "eqEY2cQod3CP"
   },
   "outputs": [],
   "source": [
    "%%R\n",
    "df <- data.frame(Tool = toolnames, PMID = toolpmids)\n",
    "write.table(df, file = \"proteomics_tools_and_pmids_oa.tsv\", sep = \"\\t\", row.names = FALSE, col.names = TRUE, quote = FALSE)"
   ]
  }
 ],
 "metadata": {
  "colab": {
   "provenance": []
  },
  "kernelspec": {
   "display_name": "Python 3 (ipykernel)",
   "language": "python",
   "name": "python3"
  },
  "language_info": {
   "codemirror_mode": {
    "name": "ipython",
    "version": 3
   },
   "file_extension": ".py",
   "mimetype": "text/x-python",
   "name": "python",
   "nbconvert_exporter": "python",
   "pygments_lexer": "ipython3",
   "version": "3.12.3"
  }
 },
 "nbformat": 4,
 "nbformat_minor": 4
}
