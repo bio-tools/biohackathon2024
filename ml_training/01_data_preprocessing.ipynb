{
 "cells": [
  {
   "cell_type": "code",
   "execution_count": null,
   "id": "c1dafe59",
   "metadata": {},
   "outputs": [],
   "source": [
    "# !pip install scikit-learn\n",
    "import ast\n",
    "import pandas as pd\n",
    "from sklearn.model_selection import train_test_split\n",
    "import sys\n",
    "\n",
    "# Add the directory to sys.path\n",
    "sys.path.append('../../biohackathon2024/src/bh24_literature_mining')\n",
    "\n",
    "# Now import ml_tools\n",
    "import ml_tools"
   ]
  },
  {
   "cell_type": "code",
   "execution_count": null,
   "id": "acb2ad01",
   "metadata": {},
   "outputs": [],
   "source": [
    "import pandas as pd\n",
    "\n",
    "# sheet_url = 'https://docs.google.com/spreadsheets/d/13BnWa9_r-8aVkbWSnuInvyhI41_WEALMBfT9X3frekI/export?format=csv&gid=79076201'\n",
    "new_sheet_url =  'https://docs.google.com/spreadsheets/d/13BnWa9_r-8aVkbWSnuInvyhI41_WEALMBfT9X3frekI/export?format=csv&gid=425276317'\n",
    "new_sheet_url = \"/Users/vedran/Downloads/mentions - improved.csv\"\n",
    "# Read the sheet into a DataFrame\n",
    "df = pd.read_csv(new_sheet_url)\n",
    "\n",
    "# Optionally, convert 'TRUE' and 'FALSE' to boolean\n",
    "df['True?'] = df['True?'].apply(lambda x: True if x == 'TRUE' else (False if x == 'FALSE' else x))\n",
    "df['False?'] = df['False?'].apply(lambda x: True if x == 'TRUE' else (False if x == 'FALSE' else x))\n",
    "\n",
    "\n",
    "# Display the DataFrame\n",
    "df\n"
   ]
  },
  {
   "cell_type": "code",
   "execution_count": null,
   "id": "010bee4e",
   "metadata": {},
   "outputs": [],
   "source": [
    "df.loc[df['False?'] == True, 'NER_Tags'] = None\n",
    "\n",
    "true_checked_df = df[(df['True?'] == True) | (df['False?'] == True)]\n",
    "\n",
    "# true_checked_df = df[(df['True?']| (df['False?']]\n",
    "\n",
    "true_checked_df\n"
   ]
  },
  {
   "cell_type": "code",
   "execution_count": null,
   "id": "1bac9831",
   "metadata": {},
   "outputs": [],
   "source": [
    "true_checked_df[true_checked_df['False?'] == True]"
   ]
  },
  {
   "cell_type": "code",
   "execution_count": null,
   "id": "2fa9c575",
   "metadata": {},
   "outputs": [],
   "source": [
    "true_checked_df = true_checked_df[['Sentence','NER_Tags']]\n",
    "\n",
    "transformed_df = true_checked_df.rename(columns={\n",
    "    'Sentence': 'sentence',\n",
    "    'NER_Tags': 'ner_ines'\n",
    "})\n",
    "\n",
    "transformed_df['ner_ines'] = transformed_df['ner_ines'].apply(lambda x: ast.literal_eval(x) if isinstance(x, str) else x)\n",
    "\n",
    "transformed_df"
   ]
  },
  {
   "cell_type": "code",
   "execution_count": null,
   "id": "0c6da881",
   "metadata": {},
   "outputs": [],
   "source": [
    "transformed_df['ner_ines'].iloc[0]\n"
   ]
  },
  {
   "cell_type": "code",
   "execution_count": 7,
   "id": "75effbd4",
   "metadata": {},
   "outputs": [],
   "source": [
    "# Group by 'sentence' and aggregate 'ner_ines'\n",
    "grouped_df = transformed_df.groupby('sentence')['ner_ines'].apply(lambda x: [i for i in x if i is not None]).reset_index()\n"
   ]
  },
  {
   "cell_type": "code",
   "execution_count": null,
   "id": "12394c19",
   "metadata": {},
   "outputs": [],
   "source": [
    "grouped_df"
   ]
  },
  {
   "cell_type": "code",
   "execution_count": null,
   "id": "e5f70ddf",
   "metadata": {},
   "outputs": [],
   "source": [
    "grouped_df['ner_ines'] = grouped_df['ner_ines'].apply(\n",
    "    lambda x: [[item[0], item[1], item[2], 'BT'] for item in x] if x else None\n",
    ")\n",
    "grouped_df"
   ]
  },
  {
   "cell_type": "code",
   "execution_count": 30,
   "id": "a9fc967b",
   "metadata": {},
   "outputs": [],
   "source": [
    "grouped_df.iloc[52]\n",
    "\n",
    "grouped_df.reset_index(drop=True, inplace=True)"
   ]
  },
  {
   "cell_type": "code",
   "execution_count": null,
   "id": "93b64e02",
   "metadata": {},
   "outputs": [],
   "source": [
    "grouped_df.head()"
   ]
  },
  {
   "cell_type": "code",
   "execution_count": null,
   "id": "869b7c99",
   "metadata": {},
   "outputs": [],
   "source": [
    "train_df, test_df = train_test_split(grouped_df, test_size=0.2, random_state=42, shuffle=False)\n",
    "\n",
    "train_df.head()\n"
   ]
  },
  {
   "cell_type": "code",
   "execution_count": null,
   "id": "efebfe21",
   "metadata": {},
   "outputs": [],
   "source": [
    "train_df.tail()\n"
   ]
  },
  {
   "cell_type": "code",
   "execution_count": null,
   "id": "77e98ffe",
   "metadata": {},
   "outputs": [],
   "source": [
    "test_df.head()\n"
   ]
  },
  {
   "cell_type": "code",
   "execution_count": null,
   "id": "ac80e692",
   "metadata": {},
   "outputs": [],
   "source": [
    "# Example usage:\n",
    "output_folder = '../data/IOB/'\n",
    "\n",
    "# Convert train, dev, and test dataframes to IOB format\n",
    "ml_tools.convert_to_IOB_format_from_df(train_df, output_folder, 'train_IOB.tsv')\n",
    "ml_tools.convert_to_IOB_format_from_df(test_df, output_folder, 'dev_IOB.tsv')"
   ]
  },
  {
   "cell_type": "code",
   "execution_count": null,
   "id": "3c335960",
   "metadata": {},
   "outputs": [],
   "source": [
    "# Example usage:\n",
    "train_files = [output_folder+'train_IOB.tsv']\n",
    "dev_files = [output_folder+'dev_IOB.tsv']\n",
    "\n",
    "ml_tools.check_integrity_of_files(train_files, dev_files,dev_files)"
   ]
  },
  {
   "cell_type": "code",
   "execution_count": null,
   "id": "372e935a",
   "metadata": {},
   "outputs": [],
   "source": []
  }
 ],
 "metadata": {
  "kernelspec": {
   "display_name": "biohackathon-2024",
   "language": "python",
   "name": "biohackathon-2024"
  },
  "language_info": {
   "codemirror_mode": {
    "name": "ipython",
    "version": 3
   },
   "file_extension": ".py",
   "mimetype": "text/x-python",
   "name": "python",
   "nbconvert_exporter": "python",
   "pygments_lexer": "ipython3",
   "version": "3.11.2"
  }
 },
 "nbformat": 4,
 "nbformat_minor": 5
}
